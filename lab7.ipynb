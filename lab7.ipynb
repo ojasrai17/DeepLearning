{
  "nbformat": 4,
  "nbformat_minor": 0,
  "metadata": {
    "colab": {
      "provenance": [],
      "include_colab_link": true
    },
    "kernelspec": {
      "name": "python3",
      "display_name": "Python 3"
    },
    "language_info": {
      "name": "python"
    }
  },
  "cells": [
    {
      "cell_type": "markdown",
      "metadata": {
        "id": "view-in-github",
        "colab_type": "text"
      },
      "source": [
        "<a href=\"https://colab.research.google.com/github/ojasrai17/DeepLearning/blob/main/lab7.ipynb\" target=\"_parent\"><img src=\"https://colab.research.google.com/assets/colab-badge.svg\" alt=\"Open In Colab\"/></a>"
      ]
    },
    {
      "cell_type": "code",
      "source": [
        "import numpy as np\n",
        "import cv2\n",
        "import matplotlib.pyplot as plt\n",
        "\n",
        "def relu(x):\n",
        "    return np.maximum(0, x)"
      ],
      "metadata": {
        "id": "CwfI17JKs7Bh"
      },
      "execution_count": null,
      "outputs": []
    },
    {
      "cell_type": "code",
      "source": [
        "def convolution(input_featuremap, kernel, stride=1, padding=0, apply_relu=True):\n",
        "    input_padded = np.pad(input_featuremap, ((padding, padding), (padding, padding)), mode='constant')\n",
        "    H, W = input_padded.shape\n",
        "    F, _ = kernel.shape\n",
        "    out_H = (H - F) // stride + 1\n",
        "    out_W = (W - F) // stride + 1\n",
        "    output_featuremap = np.zeros((out_H, out_W))\n",
        "    for i in range(out_H):\n",
        "        for j in range(out_W):\n",
        "            region = input_padded[i * stride: i * stride + F, j * stride: j * stride + F]\n",
        "            output_featuremap[i, j] = np.sum(region * kernel)\n",
        "    return relu(output_featuremap) if apply_relu else output_featuremap"
      ],
      "metadata": {
        "id": "ZWIUWB5itZJ-"
      },
      "execution_count": null,
      "outputs": []
    },
    {
      "cell_type": "code",
      "source": [
        "def convolution_multi_filter(input_featuremap, kernels, stride=1, padding=0):\n",
        "    num_filters, F, _ = kernels.shape\n",
        "    input_padded = np.pad(input_featuremap, ((padding, padding), (padding, padding), (0, 0)), mode='constant')\n",
        "    H, W, C = input_padded.shape\n",
        "    out_H = (H - F) // stride + 1\n",
        "    out_W = (W - F) // stride + 1\n",
        "    output_featuremap = np.zeros((out_H, out_W, num_filters))\n",
        "    for k in range(num_filters):\n",
        "        kernel = kernels[k]\n",
        "        for i in range(out_H):\n",
        "            for j in range(out_W):\n",
        "                region = input_padded[i * stride: i * stride + F, j * stride: j * stride + F, :]\n",
        "                output_featuremap[i, j, k] = np.sum(region * kernel[:,:,None])\n",
        "    return relu(output_featuremap)"
      ],
      "metadata": {
        "id": "K-DsFevftdfK"
      },
      "execution_count": null,
      "outputs": []
    },
    {
      "cell_type": "code",
      "source": [
        "def max_pooling(input_featuremap, pool_size, stride):\n",
        "    if len(input_featuremap.shape) == 3:\n",
        "        H, W, C = input_featuremap.shape\n",
        "        out_H = (H - pool_size) // stride + 1\n",
        "        out_W = (W - pool_size) // stride + 1\n",
        "        pooled_featuremap = np.zeros((out_H, out_W, C))\n",
        "        for c in range(C):\n",
        "            for i in range(out_H):\n",
        "                for j in range(out_W):\n",
        "                    region = input_featuremap[i*stride:i*stride+pool_size, j*stride:j*stride+pool_size, c]\n",
        "                    pooled_featuremap[i, j, c] = np.max(region)\n",
        "    else:\n",
        "        H, W = input_featuremap.shape\n",
        "        out_H = (H - pool_size) // stride + 1\n",
        "        out_W = (W - pool_size) // stride + 1\n",
        "        pooled_featuremap = np.zeros((out_H, out_W))\n",
        "        for i in range(out_H):\n",
        "            for j in range(out_W):\n",
        "                region = input_featuremap[i*stride:i*stride+pool_size, j*stride:j*stride+pool_size]\n",
        "                pooled_featuremap[i, j] = np.max(region)\n",
        "    return pooled_featuremap"
      ],
      "metadata": {
        "id": "PLMT8je-tgo7"
      },
      "execution_count": null,
      "outputs": []
    },
    {
      "cell_type": "code",
      "source": [
        "def alexnet_forward(input_image):\n",
        "\n",
        "    conv1 = convolution_multi_filter(input_image, np.random.randn(96, 11, 11), stride=4, padding=2)\n",
        "    pool1 = max_pooling(conv1, pool_size=3, stride=2)  # Shape: 27×27×96\n",
        "\n",
        "\n",
        "    conv2 = convolution_multi_filter(pool1, np.random.randn(256, 5, 5), stride=1, padding=2)\n",
        "    pool2 = max_pooling(conv2, pool_size=3, stride=2)  # Shape: 13×13×256\n",
        "\n",
        "\n",
        "    conv3 = convolution_multi_filter(pool2, np.random.randn(384, 3, 3), stride=1, padding=1)\n",
        "    conv4 = convolution_multi_filter(conv3, np.random.randn(384, 3, 3), stride=1, padding=1)\n",
        "    conv5 = convolution_multi_filter(conv4, np.random.randn(256, 3, 3), stride=1, padding=1)\n",
        "\n",
        "\n",
        "    conv5_2d = np.mean(conv5, axis=2)  # Shape: 13×13\n",
        "\n",
        "\n",
        "    pool5 = max_pooling(conv5_2d, pool_size=3, stride=2)  # Shape: 6×6\n",
        "    return pool5"
      ],
      "metadata": {
        "id": "wGfshaqhtv50"
      },
      "execution_count": null,
      "outputs": []
    },
    {
      "cell_type": "code",
      "source": [
        "\n",
        "image = np.random.rand(227, 227, 3)*255\n",
        "print(image)\n",
        "alexnet_output = alexnet_forward(image)\n",
        "\n",
        "if len(alexnet_output.shape) == 3:\n",
        "    plt.imshow(alexnet_output[:, :, 0], cmap=\"gray\")\n",
        "else:\n",
        "    plt.imshow(alexnet_output, cmap=\"gray\")\n",
        "print(alexnet_output.shape)\n",
        "plt.title(\"Final Feature Map from AlexNet\")\n",
        "plt.show()"
      ],
      "metadata": {
        "colab": {
          "base_uri": "https://localhost:8080/",
          "height": 1000
        },
        "id": "UYr4YlEWtzwd",
        "outputId": "2e1928eb-7b83-4b4d-a022-509da1f9fcf0"
      },
      "execution_count": null,
      "outputs": [
        {
          "output_type": "stream",
          "name": "stdout",
          "text": [
            "[[[121.1379825   94.08720266  87.78488347]\n",
            "  [  3.16081973 210.34973256  24.71516051]\n",
            "  [245.78051457  43.45651553  94.71408829]\n",
            "  ...\n",
            "  [221.14084438 121.86659948 207.37877226]\n",
            "  [ 45.34577511 154.20819875 195.08040547]\n",
            "  [ 51.68934151 123.43630905  55.81108126]]\n",
            "\n",
            " [[120.78847308 239.59458156 142.15470497]\n",
            "  [ 48.32100565  40.44424459 171.16710427]\n",
            "  [158.30990427  88.05626337 227.83290071]\n",
            "  ...\n",
            "  [196.77719397  30.45550363 155.62877043]\n",
            "  [221.70858571  65.27206555 147.28790023]\n",
            "  [ 97.84297709  10.32661449  95.95436846]]\n",
            "\n",
            " [[ 29.85487386 120.9626865  197.84647843]\n",
            "  [216.35974635 101.29930813  84.79748383]\n",
            "  [252.40851562  49.03547028  64.77893074]\n",
            "  ...\n",
            "  [ 37.18097838 116.66487922 239.94679956]\n",
            "  [ 63.67335713 239.47008588   4.50332192]\n",
            "  [111.47443433  85.71066582 236.01247585]]\n",
            "\n",
            " ...\n",
            "\n",
            " [[160.96165108  49.23136922 115.61450334]\n",
            "  [253.42871691 252.76176024 221.46268518]\n",
            "  [  6.53533753 113.10162229  88.05520754]\n",
            "  ...\n",
            "  [175.22161767 126.23845643 157.91771174]\n",
            "  [ 85.19524261  11.23639844 222.35239711]\n",
            "  [109.74992195 123.00083743 174.54366714]]\n",
            "\n",
            " [[ 36.06812349 230.43046629  96.28121729]\n",
            "  [163.41710106 178.4483032  173.28248394]\n",
            "  [195.16216207 153.89558323  33.99038259]\n",
            "  ...\n",
            "  [ 65.89806285 148.68943336  72.654628  ]\n",
            "  [179.11461732   4.58720374 193.13923107]\n",
            "  [121.07015335  15.21675461  32.84669653]]\n",
            "\n",
            " [[145.66949173 210.6622672    6.88662293]\n",
            "  [144.99427317 141.88944292 211.28288233]\n",
            "  [ 65.60334227 102.0112018   24.12735092]\n",
            "  ...\n",
            "  [159.11943969   8.33919866  40.87566746]\n",
            "  [237.98168347 142.14501436 240.69715646]\n",
            "  [212.2870587   85.24318675 230.60434032]]]\n",
            "(6, 6)\n"
          ]
        },
        {
          "output_type": "display_data",
          "data": {
            "text/plain": [
              "<Figure size 640x480 with 1 Axes>"
            ],
            "image/png": "[encoded data removed]"
          },
          "metadata": {}
        }
      ]
    }
  ]
}