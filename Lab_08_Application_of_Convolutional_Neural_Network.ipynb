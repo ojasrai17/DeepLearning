{
  "cells": [
    {
      "cell_type": "markdown",
      "metadata": {
        "id": "view-in-github",
        "colab_type": "text"
      },
      "source": [
        "<a href=\"https://colab.research.google.com/github/ojasrai17/DeepLearning/blob/main/Lab_08_Application_of_Convolutional_Neural_Network.ipynb\" target=\"_parent\"><img src=\"https://colab.research.google.com/assets/colab-badge.svg\" alt=\"Open In Colab\"/></a>"
      ]
    },
    {
      "cell_type": "markdown",
      "metadata": {
        "id": "kNQ4yYCf-2RL"
      },
      "source": [
        "# Lab-08: Convolutional Neural Networks: Application\n",
        "\n",
        "In this lab, you will:\n",
        "\n",
        "- Create a mood classifer using the TF Keras Sequential API\n",
        "- Build a ConvNet to identify sign language digits using the TF Keras Functional API\n",
        "\n",
        "**After this assignment you will be able to:**\n",
        "\n",
        "- Build and train a ConvNet in TensorFlow for a __binary__ classification problem\n",
        "- Build and train a ConvNet in TensorFlow for a __multiclass__ classification problem\n",
        "- Explain different use cases for the Sequential and Functional APIs"
      ]
    },
    {
      "cell_type": "markdown",
      "metadata": {
        "id": "qS_tjJXR-2RN"
      },
      "source": [
        "## Table of Contents\n",
        "\n",
        "- [1 - Packages](#1)\n",
        "    - [1.1 - Load the Data and Split the Data into Train/Test Sets](#1-1)\n",
        "- [2 - Layers in TF Keras](#2)\n",
        "- [3 - The Sequential API](#3)\n",
        "    - [3.1 - Create the Sequential Model](#3-1)\n",
        "        - [Exercise 1 - happyModel](#ex-1)\n",
        "    - [3.2 - Train and Evaluate the Model](#3-2)\n",
        "- [4 - The Functional API](#4)\n",
        "    - [4.1 - Load the SIGNS Dataset](#4-1)\n",
        "    - [4.2 - Split the Data into Train/Test Sets](#4-2)\n",
        "    - [4.3 - Forward Propagation](#4-3)\n",
        "        - [Exercise 2 - convolutional_model](#ex-2)\n",
        "    - [4.4 - Train the Model](#4-4)\n",
        "- [5 - History Object](#5)\n",
        "- [6 - Confusion Matrix and Classification Report](#6)\n",
        "- [7 - Bibliography](#7)"
      ]
    },
    {
      "cell_type": "markdown",
      "metadata": {
        "id": "FgdW5OWl-2RQ"
      },
      "source": [
        "<a name='1'></a>\n",
        "## 1 - Packages\n",
        "\n",
        "As usual, begin by loading in the packages."
      ]
    },
    {
      "cell_type": "code",
      "execution_count": null,
      "metadata": {
        "id": "zifb924B-2RS",
        "colab": {
          "base_uri": "https://localhost:8080/"
        },
        "outputId": "04c518cc-db6b-4d72-f5c4-73113a711473"
      },
      "outputs": [
        {
          "output_type": "stream",
          "name": "stdout",
          "text": [
            "The autoreload extension is already loaded. To reload it, use:\n",
            "  %reload_ext autoreload\n"
          ]
        }
      ],
      "source": [
        "import math\n",
        "import numpy as np\n",
        "import h5py\n",
        "import matplotlib.pyplot as plt\n",
        "from matplotlib.pyplot import imread\n",
        "import seaborn as sns\n",
        "import scipy\n",
        "from PIL import Image\n",
        "import pandas as pd\n",
        "import tensorflow as tf\n",
        "import tensorflow.keras.layers as tfl\n",
        "from sklearn.metrics import confusion_matrix, classification_report\n",
        "from cnn_utils import *\n",
        "from test_utils import summary, comparator\n",
        "\n",
        "%load_ext autoreload\n",
        "%autoreload 2\n",
        "\n",
        "%matplotlib inline\n",
        "np.random.seed(1)"
      ]
    },
    {
      "cell_type": "markdown",
      "metadata": {
        "id": "M0z8mgpw-2RT"
      },
      "source": [
        "<a name='1-1'></a>\n",
        "### 1.1 - Load the Data and Split the Data into Train/Test Sets\n",
        "\n",
        "You'll be using the Happy House dataset for this part of the assignment, which contains images of peoples' faces. Your task will be to build a ConvNet that determines whether the people in the images are smiling or not -- because they only get to enter the house if they're smiling!  "
      ]
    },
    {
      "cell_type": "code",
      "execution_count": null,
      "metadata": {
        "id": "z_S6mR1--2RU",
        "colab": {
          "base_uri": "https://localhost:8080/"
        },
        "outputId": "f708e88d-08a2-4954-ce57-dc06d791c6f7"
      },
      "outputs": [
        {
          "output_type": "stream",
          "name": "stdout",
          "text": [
            "number of training examples = 600\n",
            "number of test examples = 150\n",
            "X_train shape: (600, 64, 64, 3)\n",
            "Y_train shape: (600, 1)\n",
            "X_test shape: (150, 64, 64, 3)\n",
            "Y_test shape: (150, 1)\n"
          ]
        }
      ],
      "source": [
        "X_train_orig, Y_train_orig, X_test_orig, Y_test_orig, classes = load_happy_dataset()\n",
        "\n",
        "# Normalize image vectors\n",
        "X_train = X_train_orig/255.\n",
        "X_test = X_test_orig/255.\n",
        "\n",
        "# Reshape\n",
        "Y_train = Y_train_orig.T\n",
        "Y_test = Y_test_orig.T\n",
        "\n",
        "print (\"number of training examples = \" + str(X_train.shape[0]))\n",
        "print (\"number of test examples = \" + str(X_test.shape[0]))\n",
        "print (\"X_train shape: \" + str(X_train.shape))\n",
        "print (\"Y_train shape: \" + str(Y_train.shape))\n",
        "print (\"X_test shape: \" + str(X_test.shape))\n",
        "print (\"Y_test shape: \" + str(Y_test.shape))"
      ]
    },
    {
      "cell_type": "markdown",
      "metadata": {
        "id": "Cefa8ou6-2RV"
      },
      "source": [
        "You can display the images contained in the dataset. Images are **64x64** pixels in RGB format (3 channels)."
      ]
    },
    {
      "cell_type": "code",
      "execution_count": null,
      "metadata": {
        "id": "OV6xQvk6-2RV",
        "colab": {
          "base_uri": "https://localhost:8080/",
          "height": 432
        },
        "outputId": "8691af2c-b747-4b6b-ec0a-ab89126de601"
      },
      "outputs": [
        {
          "output_type": "display_data",
          "data": {
            "text/plain": [
              "<Figure size 640x480 with 1 Axes>"
            ],
            "image/png": "[encoded data removed]"
          },
          "metadata": {}
        }
      ],
      "source": [
        "index = 60\n",
        "plt.imshow(X_train_orig[index]) #display sample training image\n",
        "plt.show()"
      ]
    },
    {
      "cell_type": "markdown",
      "metadata": {
        "id": "poNr4pou-2RW"
      },
      "source": [
        "<a name='2'></a>\n",
        "## 2 - Layers in TF Keras\n",
        "\n",
        "In the previous lab assignments, you created layers manually in numpy. In TF Keras, you don't have to write code directly to create layers. Rather, TF Keras has pre-defined layers you can use.\n",
        "\n",
        "When you create a layer in TF Keras, you are creating a function that takes some input and transforms it into an output you can reuse later. Nice and easy!"
      ]
    },
    {
      "cell_type": "markdown",
      "metadata": {
        "id": "rBNJ3XE0-2RW"
      },
      "source": [
        "<a name='3'></a>\n",
        "## 3 - The Sequential API\n",
        "\n",
        "In the previous lab assignment, you built helper functions using `numpy` to understand the mechanics behind convolutional neural networks. Most practical applications of deep learning today are built using programming frameworks, which have many built-in functions you can simply call. Keras is a high-level abstraction built on top of TensorFlow, which allows for even more simplified and optimized model creation and training.\n",
        "\n",
        "For the first part of this assignment, you'll create a model using TF Keras' Sequential API, which allows you to build layer by layer, and is ideal for building models where each layer has **exactly one** input tensor and **one** output tensor.\n",
        "\n",
        "As you'll see, using the Sequential API is simple and straightforward, but is only appropriate for simpler, more straightforward tasks. Later in this notebook you'll spend some time building with a more flexible, powerful alternative: the Functional API.\n"
      ]
    },
    {
      "cell_type": "markdown",
      "metadata": {
        "id": "2f3PsrtY-2RX"
      },
      "source": [
        "<a name='3-1'></a>\n",
        "### 3.1 - Create the Sequential Model\n",
        "\n",
        "As mentioned earlier, the TensorFlow Keras Sequential API can be used to build simple models with layer operations that proceed in a sequential order.\n",
        "\n",
        "You can also add layers incrementally to a Sequential model with the `.add()` method, or remove them using the `.pop()` method, much like you would in a regular Python list.\n",
        "\n",
        "Actually, you can think of a Sequential model as behaving like a list of layers. Like Python lists, Sequential layers are ordered, and the order in which they are specified matters.  If your model is non-linear or contains layers with multiple inputs or outputs, a Sequential model wouldn't be the right choice!\n",
        "\n",
        "For any layer construction in Keras, you'll need to specify the input shape in advance. This is because in Keras, the shape of the weights is based on the shape of the inputs. The weights are only created when the model first sees some input data. Sequential models can be created by passing a list of layers to the Sequential constructor, like you will do in the next assignment.\n",
        "\n",
        "<a name='ex-1'></a>\n",
        "### Exercise 1 - happyModel\n",
        "\n",
        "Implement the `happyModel` function below to build the following model: `ZEROPAD2D -> CONV2D -> BATCHNORM -> RELU -> MAXPOOL -> FLATTEN -> DENSE`. Take help from [tf.keras.layers](https://www.tensorflow.org/api_docs/python/tf/keras/layers)\n",
        "\n",
        "Also, plug in the following parameters for all the steps:\n",
        "\n",
        " - [ZeroPadding2D](https://www.tensorflow.org/api_docs/python/tf/keras/layers/ZeroPadding2D): padding 3, input shape 64 x 64 x 3\n",
        " - [Conv2D](https://www.tensorflow.org/api_docs/python/tf/keras/layers/Conv2D): Use 32 7x7 filters, stride 1\n",
        " - [BatchNormalization](https://www.tensorflow.org/api_docs/python/tf/keras/layers/BatchNormalization): for axis 3\n",
        " - [ReLU](https://www.tensorflow.org/api_docs/python/tf/keras/layers/ReLU)\n",
        " - [MaxPool2D](https://www.tensorflow.org/api_docs/python/tf/keras/layers/MaxPool2D): Using default parameters\n",
        " - [Flatten](https://www.tensorflow.org/api_docs/python/tf/keras/layers/Flatten) the previous output.\n",
        " - Fully-connected ([Dense](https://www.tensorflow.org/api_docs/python/tf/keras/layers/Dense)) layer: Apply a fully connected layer with 1 neuron and a sigmoid activation.\n",
        "\n",
        "\n",
        " **Hint:**\n",
        "\n",
        " Use **tfl** as shorthand for **tensorflow.keras.layers**"
      ]
    },
    {
      "cell_type": "code",
      "source": [
        "tf.keras.backend.clear_session()"
      ],
      "metadata": {
        "id": "XzWyCvGMNlvY"
      },
      "execution_count": null,
      "outputs": []
    },
    {
      "cell_type": "code",
      "execution_count": null,
      "metadata": {
        "deletable": false,
        "nbgrader": {
          "cell_type": "code",
          "checksum": "95d28b191f257bdd5b70c7b8952559d5",
          "grade": false,
          "grade_id": "cell-0e56d3fc28b69aec",
          "locked": false,
          "schema_version": 3,
          "solution": true,
          "task": false
        },
        "id": "e_rWpYMp-2RX"
      },
      "outputs": [],
      "source": [
        "import tensorflow as tf\n",
        "from tensorflow.keras.layers import ZeroPadding2D, Conv2D, BatchNormalization, Activation, MaxPooling2D, Flatten, Dense\n",
        "from tensorflow.keras.models import Sequential\n",
        "\n",
        "def happyModel():\n",
        "    \"\"\"\n",
        "    Implements a simple CNN:\n",
        "    ZEROPAD2D -> CONV2D -> BATCHNORM -> RELU -> MAXPOOL -> FLATTEN -> DENSE\n",
        "    \"\"\"\n",
        "\n",
        "    model = Sequential([\n",
        "        ZeroPadding2D(padding=(3, 3), input_shape=(64, 64, 3)),  # Input shape = 64x64 RGB images\n",
        "        Conv2D(filters=32, kernel_size=(7, 7), strides=(1, 1), name='conv0'),\n",
        "        BatchNormalization(axis=3, name='bn0'),\n",
        "        Activation('relu'),\n",
        "        MaxPooling2D(pool_size=(2, 2), name='max_pool'),\n",
        "        Flatten(),\n",
        "        Dense(units=1, activation='sigmoid', name='fc')\n",
        "    ])\n",
        "\n",
        "    return model\n"
      ]
    },
    {
      "cell_type": "code",
      "execution_count": null,
      "metadata": {
        "deletable": false,
        "editable": false,
        "nbgrader": {
          "cell_type": "code",
          "checksum": "8d3575c950e2e78149be2d05d671c80d",
          "grade": true,
          "grade_id": "cell-e3e1046e5c33d775",
          "locked": true,
          "points": 10,
          "schema_version": 3,
          "solution": false,
          "task": false
        },
        "colab": {
          "base_uri": "https://localhost:8080/"
        },
        "id": "AEJIX8hP-2RY",
        "outputId": "55c53122-dad4-4746-e4ef-45a2bcaf0ea4"
      },
      "outputs": [
        {
          "output_type": "stream",
          "name": "stdout",
          "text": [
            "['ZeroPadding2D', (None, 70, 70, 3), 0, ((3, 3), (3, 3))]\n",
            "['Conv2D', (None, 64, 64, 32), 4736, 'valid', 'linear', 'GlorotUniform']\n",
            "['BatchNormalization', (None, 64, 64, 32), 128]\n",
            "['Activation', (None, 64, 64, 32), 0]\n",
            "['MaxPooling2D', (None, 32, 32, 32), 0, (2, 2), (2, 2), 'valid']\n",
            "['Flatten', (None, 32768), 0]\n",
            "['Dense', (None, 1), 32769, 'sigmoid']\n",
            "All tests passed!\n"
          ]
        },
        {
          "output_type": "stream",
          "name": "stderr",
          "text": [
            "/usr/local/lib/python3.11/dist-packages/keras/src/layers/reshaping/zero_padding2d.py:72: UserWarning: Do not pass an `input_shape`/`input_dim` argument to a layer. When using Sequential models, prefer using an `Input(shape)` object as the first layer in the model instead.\n",
            "  super().__init__(**kwargs)\n"
          ]
        }
      ],
      "source": [
        "happy_model = happyModel()\n",
        "# Print a summary for each layer\n",
        "for layer in summary(happy_model):\n",
        "    print(layer)\n",
        "\n",
        "output = [['ZeroPadding2D', (None, 70, 70, 3), 0, ((3, 3), (3, 3))],\n",
        "            ['Conv2D', (None, 64, 64, 32), 4736, 'valid', 'linear', 'GlorotUniform'],\n",
        "            ['BatchNormalization', (None, 64, 64, 32), 128],\n",
        "            ['ReLU', (None, 64, 64, 32), 0],\n",
        "            ['MaxPooling2D', (None, 32, 32, 32), 0, (2, 2), (2, 2), 'valid'],\n",
        "            ['Flatten', (None, 32768), 0],\n",
        "            ['Dense', (None, 1), 32769, 'sigmoid']]\n",
        "\n",
        "comparator(summary(happy_model), output)"
      ]
    },
    {
      "cell_type": "markdown",
      "metadata": {
        "id": "wHJFcaRT-2RY"
      },
      "source": [
        "#### Expected Output:\n",
        "\n",
        "```\n",
        "['ZeroPadding2D', (None, 70, 70, 3), 0, ((3, 3), (3, 3))]\n",
        "['Conv2D', (None, 64, 64, 32), 4736, 'valid', 'linear', 'GlorotUniform']\n",
        "['BatchNormalization', (None, 64, 64, 32), 128]\n",
        "['ReLU', (None, 64, 64, 32), 0]\n",
        "['MaxPooling2D', (None, 32, 32, 32), 0, (2, 2), (2, 2), 'valid']\n",
        "['Flatten', (None, 32768), 0]\n",
        "['Dense', (None, 1), 32769, 'sigmoid']\n",
        "All tests passed!\n",
        "```"
      ]
    },
    {
      "cell_type": "markdown",
      "metadata": {
        "id": "kUPSYKvT-2RY"
      },
      "source": [
        "Now that your model is created, you can compile it for training with an optimizer and loss of your choice. When the string `accuracy` is specified as a metric, the type of accuracy used will be automatically converted based on the loss function used. This is one of the many optimizations built into TensorFlow that make your life easier! If you'd like to read more on how the compiler operates, check the docs [here](https://www.tensorflow.org/api_docs/python/tf/keras/Model#compile)."
      ]
    },
    {
      "cell_type": "code",
      "execution_count": null,
      "metadata": {
        "id": "6hX5uUs0-2RZ"
      },
      "outputs": [],
      "source": [
        "happy_model.compile()"
      ]
    },
    {
      "cell_type": "markdown",
      "metadata": {
        "id": "D1LyNF6K-2RZ"
      },
      "source": [
        "It's time to check your model's parameters with the `.summary()` method. This will display the types of layers you have, the shape of the outputs, and how many parameters are in each layer."
      ]
    },
    {
      "cell_type": "code",
      "execution_count": null,
      "metadata": {
        "id": "pqls3Hxe-2RZ",
        "colab": {
          "base_uri": "https://localhost:8080/",
          "height": 374
        },
        "outputId": "a35e0250-4c1e-48a4-bce5-86c1a061e431"
      },
      "outputs": [
        {
          "output_type": "display_data",
          "data": {
            "text/plain": [
              "\u001b[1mModel: \"sequential\"\u001b[0m\n"
            ],
            "text/html": [
              "<pre style=\"white-space:pre;overflow-x:auto;line-height:normal;font-family:Menlo,'DejaVu Sans Mono',consolas,'Courier New',monospace\"><span style=\"font-weight: bold\">Model: \"sequential\"</span>\n",
              "</pre>\n"
            ]
          },
          "metadata": {}
        },
        {
          "output_type": "display_data",
          "data": {
            "text/plain": [
              "┏━━━━━━━━━━━━━━━━━━━━━━━━━━━━━━━━━━━━━━┳━━━━━━━━━━━━━━━━━━━━━━━━━━━━━┳━━━━━━━━━━━━━━━━━┓\n",
              "┃\u001b[1m \u001b[0m\u001b[1mLayer (type)                        \u001b[0m\u001b[1m \u001b[0m┃\u001b[1m \u001b[0m\u001b[1mOutput Shape               \u001b[0m\u001b[1m \u001b[0m┃\u001b[1m \u001b[0m\u001b[1m        Param #\u001b[0m\u001b[1m \u001b[0m┃\n",
              "┡━━━━━━━━━━━━━━━━━━━━━━━━━━━━━━━━━━━━━━╇━━━━━━━━━━━━━━━━━━━━━━━━━━━━━╇━━━━━━━━━━━━━━━━━┩\n",
              "│ zero_padding2d (\u001b[38;5;33mZeroPadding2D\u001b[0m)       │ (\u001b[38;5;45mNone\u001b[0m, \u001b[38;5;34m70\u001b[0m, \u001b[38;5;34m70\u001b[0m, \u001b[38;5;34m3\u001b[0m)           │               \u001b[38;5;34m0\u001b[0m │\n",
              "├──────────────────────────────────────┼─────────────────────────────┼─────────────────┤\n",
              "│ conv0 (\u001b[38;5;33mConv2D\u001b[0m)                       │ (\u001b[38;5;45mNone\u001b[0m, \u001b[38;5;34m64\u001b[0m, \u001b[38;5;34m64\u001b[0m, \u001b[38;5;34m32\u001b[0m)          │           \u001b[38;5;34m4,736\u001b[0m │\n",
              "├──────────────────────────────────────┼─────────────────────────────┼─────────────────┤\n",
              "│ bn0 (\u001b[38;5;33mBatchNormalization\u001b[0m)             │ (\u001b[38;5;45mNone\u001b[0m, \u001b[38;5;34m64\u001b[0m, \u001b[38;5;34m64\u001b[0m, \u001b[38;5;34m32\u001b[0m)          │             \u001b[38;5;34m128\u001b[0m │\n",
              "├──────────────────────────────────────┼─────────────────────────────┼─────────────────┤\n",
              "│ activation (\u001b[38;5;33mActivation\u001b[0m)              │ (\u001b[38;5;45mNone\u001b[0m, \u001b[38;5;34m64\u001b[0m, \u001b[38;5;34m64\u001b[0m, \u001b[38;5;34m32\u001b[0m)          │               \u001b[38;5;34m0\u001b[0m │\n",
              "├──────────────────────────────────────┼─────────────────────────────┼─────────────────┤\n",
              "│ max_pool (\u001b[38;5;33mMaxPooling2D\u001b[0m)              │ (\u001b[38;5;45mNone\u001b[0m, \u001b[38;5;34m32\u001b[0m, \u001b[38;5;34m32\u001b[0m, \u001b[38;5;34m32\u001b[0m)          │               \u001b[38;5;34m0\u001b[0m │\n",
              "├──────────────────────────────────────┼─────────────────────────────┼─────────────────┤\n",
              "│ flatten (\u001b[38;5;33mFlatten\u001b[0m)                    │ (\u001b[38;5;45mNone\u001b[0m, \u001b[38;5;34m32768\u001b[0m)               │               \u001b[38;5;34m0\u001b[0m │\n",
              "├──────────────────────────────────────┼─────────────────────────────┼─────────────────┤\n",
              "│ fc (\u001b[38;5;33mDense\u001b[0m)                           │ (\u001b[38;5;45mNone\u001b[0m, \u001b[38;5;34m1\u001b[0m)                   │          \u001b[38;5;34m32,769\u001b[0m │\n",
              "└──────────────────────────────────────┴─────────────────────────────┴─────────────────┘\n"
            ],
            "text/html": [
              "<pre style=\"white-space:pre;overflow-x:auto;line-height:normal;font-family:Menlo,'DejaVu Sans Mono',consolas,'Courier New',monospace\">┏━━━━━━━━━━━━━━━━━━━━━━━━━━━━━━━━━━━━━━┳━━━━━━━━━━━━━━━━━━━━━━━━━━━━━┳━━━━━━━━━━━━━━━━━┓\n",
              "┃<span style=\"font-weight: bold\"> Layer (type)                         </span>┃<span style=\"font-weight: bold\"> Output Shape                </span>┃<span style=\"font-weight: bold\">         Param # </span>┃\n",
              "┡━━━━━━━━━━━━━━━━━━━━━━━━━━━━━━━━━━━━━━╇━━━━━━━━━━━━━━━━━━━━━━━━━━━━━╇━━━━━━━━━━━━━━━━━┩\n",
              "│ zero_padding2d (<span style=\"color: #0087ff; text-decoration-color: #0087ff\">ZeroPadding2D</span>)       │ (<span style=\"color: #00d7ff; text-decoration-color: #00d7ff\">None</span>, <span style=\"color: #00af00; text-decoration-color: #00af00\">70</span>, <span style=\"color: #00af00; text-decoration-color: #00af00\">70</span>, <span style=\"color: #00af00; text-decoration-color: #00af00\">3</span>)           │               <span style=\"color: #00af00; text-decoration-color: #00af00\">0</span> │\n",
              "├──────────────────────────────────────┼─────────────────────────────┼─────────────────┤\n",
              "│ conv0 (<span style=\"color: #0087ff; text-decoration-color: #0087ff\">Conv2D</span>)                       │ (<span style=\"color: #00d7ff; text-decoration-color: #00d7ff\">None</span>, <span style=\"color: #00af00; text-decoration-color: #00af00\">64</span>, <span style=\"color: #00af00; text-decoration-color: #00af00\">64</span>, <span style=\"color: #00af00; text-decoration-color: #00af00\">32</span>)          │           <span style=\"color: #00af00; text-decoration-color: #00af00\">4,736</span> │\n",
              "├──────────────────────────────────────┼─────────────────────────────┼─────────────────┤\n",
              "│ bn0 (<span style=\"color: #0087ff; text-decoration-color: #0087ff\">BatchNormalization</span>)             │ (<span style=\"color: #00d7ff; text-decoration-color: #00d7ff\">None</span>, <span style=\"color: #00af00; text-decoration-color: #00af00\">64</span>, <span style=\"color: #00af00; text-decoration-color: #00af00\">64</span>, <span style=\"color: #00af00; text-decoration-color: #00af00\">32</span>)          │             <span style=\"color: #00af00; text-decoration-color: #00af00\">128</span> │\n",
              "├──────────────────────────────────────┼─────────────────────────────┼─────────────────┤\n",
              "│ activation (<span style=\"color: #0087ff; text-decoration-color: #0087ff\">Activation</span>)              │ (<span style=\"color: #00d7ff; text-decoration-color: #00d7ff\">None</span>, <span style=\"color: #00af00; text-decoration-color: #00af00\">64</span>, <span style=\"color: #00af00; text-decoration-color: #00af00\">64</span>, <span style=\"color: #00af00; text-decoration-color: #00af00\">32</span>)          │               <span style=\"color: #00af00; text-decoration-color: #00af00\">0</span> │\n",
              "├──────────────────────────────────────┼─────────────────────────────┼─────────────────┤\n",
              "│ max_pool (<span style=\"color: #0087ff; text-decoration-color: #0087ff\">MaxPooling2D</span>)              │ (<span style=\"color: #00d7ff; text-decoration-color: #00d7ff\">None</span>, <span style=\"color: #00af00; text-decoration-color: #00af00\">32</span>, <span style=\"color: #00af00; text-decoration-color: #00af00\">32</span>, <span style=\"color: #00af00; text-decoration-color: #00af00\">32</span>)          │               <span style=\"color: #00af00; text-decoration-color: #00af00\">0</span> │\n",
              "├──────────────────────────────────────┼─────────────────────────────┼─────────────────┤\n",
              "│ flatten (<span style=\"color: #0087ff; text-decoration-color: #0087ff\">Flatten</span>)                    │ (<span style=\"color: #00d7ff; text-decoration-color: #00d7ff\">None</span>, <span style=\"color: #00af00; text-decoration-color: #00af00\">32768</span>)               │               <span style=\"color: #00af00; text-decoration-color: #00af00\">0</span> │\n",
              "├──────────────────────────────────────┼─────────────────────────────┼─────────────────┤\n",
              "│ fc (<span style=\"color: #0087ff; text-decoration-color: #0087ff\">Dense</span>)                           │ (<span style=\"color: #00d7ff; text-decoration-color: #00d7ff\">None</span>, <span style=\"color: #00af00; text-decoration-color: #00af00\">1</span>)                   │          <span style=\"color: #00af00; text-decoration-color: #00af00\">32,769</span> │\n",
              "└──────────────────────────────────────┴─────────────────────────────┴─────────────────┘\n",
              "</pre>\n"
            ]
          },
          "metadata": {}
        },
        {
          "output_type": "display_data",
          "data": {
            "text/plain": [
              "\u001b[1m Total params: \u001b[0m\u001b[38;5;34m37,633\u001b[0m (147.00 KB)\n"
            ],
            "text/html": [
              "<pre style=\"white-space:pre;overflow-x:auto;line-height:normal;font-family:Menlo,'DejaVu Sans Mono',consolas,'Courier New',monospace\"><span style=\"font-weight: bold\"> Total params: </span><span style=\"color: #00af00; text-decoration-color: #00af00\">37,633</span> (147.00 KB)\n",
              "</pre>\n"
            ]
          },
          "metadata": {}
        },
        {
          "output_type": "display_data",
          "data": {
            "text/plain": [
              "\u001b[1m Trainable params: \u001b[0m\u001b[38;5;34m37,569\u001b[0m (146.75 KB)\n"
            ],
            "text/html": [
              "<pre style=\"white-space:pre;overflow-x:auto;line-height:normal;font-family:Menlo,'DejaVu Sans Mono',consolas,'Courier New',monospace\"><span style=\"font-weight: bold\"> Trainable params: </span><span style=\"color: #00af00; text-decoration-color: #00af00\">37,569</span> (146.75 KB)\n",
              "</pre>\n"
            ]
          },
          "metadata": {}
        },
        {
          "output_type": "display_data",
          "data": {
            "text/plain": [
              "\u001b[1m Non-trainable params: \u001b[0m\u001b[38;5;34m64\u001b[0m (256.00 B)\n"
            ],
            "text/html": [
              "<pre style=\"white-space:pre;overflow-x:auto;line-height:normal;font-family:Menlo,'DejaVu Sans Mono',consolas,'Courier New',monospace\"><span style=\"font-weight: bold\"> Non-trainable params: </span><span style=\"color: #00af00; text-decoration-color: #00af00\">64</span> (256.00 B)\n",
              "</pre>\n"
            ]
          },
          "metadata": {}
        }
      ],
      "source": [
        "happy_model.summary()"
      ]
    },
    {
      "cell_type": "markdown",
      "metadata": {
        "id": "B9XjBbNV-2Ra"
      },
      "source": [
        "<a name='3-2'></a>\n",
        "### 3.2 - Train and Evaluate the Model\n",
        "\n",
        "After creating the model, compiling it with your choice of optimizer and loss function, and doing a sanity check on its contents, you are now ready to build!\n",
        "\n",
        "Simply call `.fit()` to train. That's it! No need for mini-batching, saving, or complex backpropagation computations. That's all been done for you, as you're using a TensorFlow dataset with the batches specified already. You do have the option to specify epoch number or minibatch size if you like (for example, in the case of an un-batched dataset)."
      ]
    },
    {
      "cell_type": "code",
      "execution_count": null,
      "metadata": {
        "id": "U1mnWcDe-2Ra",
        "colab": {
          "base_uri": "https://localhost:8080/"
        },
        "outputId": "829c8b23-2127-4a41-9deb-996ad5649718"
      },
      "outputs": [
        {
          "output_type": "stream",
          "name": "stdout",
          "text": [
            "Epoch 1/10\n"
          ]
        },
        {
          "output_type": "stream",
          "name": "stderr",
          "text": [
            "/usr/local/lib/python3.11/dist-packages/keras/src/losses/losses.py:33: SyntaxWarning: In loss categorical_crossentropy, expected y_pred.shape to be (batch_size, num_classes) with num_classes > 1. Received: y_pred.shape=(None, 1). Consider using 'binary_crossentropy' if you only have 2 classes.\n",
            "  return self.fn(y_true, y_pred, **self._fn_kwargs)\n"
          ]
        },
        {
          "output_type": "stream",
          "name": "stdout",
          "text": [
            "\u001b[1m19/19\u001b[0m \u001b[32m━━━━━━━━━━━━━━━━━━━━\u001b[0m\u001b[37m\u001b[0m \u001b[1m5s\u001b[0m 222ms/step - accuracy: 0.4950 - loss: 0.0000e+00\n",
            "Epoch 2/10\n",
            "\u001b[1m19/19\u001b[0m \u001b[32m━━━━━━━━━━━━━━━━━━━━\u001b[0m\u001b[37m\u001b[0m \u001b[1m5s\u001b[0m 194ms/step - accuracy: 0.4904 - loss: 0.0000e+00\n",
            "Epoch 3/10\n",
            "\u001b[1m19/19\u001b[0m \u001b[32m━━━━━━━━━━━━━━━━━━━━\u001b[0m\u001b[37m\u001b[0m \u001b[1m5s\u001b[0m 202ms/step - accuracy: 0.5074 - loss: 0.0000e+00\n",
            "Epoch 4/10\n",
            "\u001b[1m19/19\u001b[0m \u001b[32m━━━━━━━━━━━━━━━━━━━━\u001b[0m\u001b[37m\u001b[0m \u001b[1m5s\u001b[0m 251ms/step - accuracy: 0.4586 - loss: 0.0000e+00\n",
            "Epoch 5/10\n",
            "\u001b[1m19/19\u001b[0m \u001b[32m━━━━━━━━━━━━━━━━━━━━\u001b[0m\u001b[37m\u001b[0m \u001b[1m4s\u001b[0m 191ms/step - accuracy: 0.4904 - loss: 0.0000e+00\n",
            "Epoch 6/10\n",
            "\u001b[1m19/19\u001b[0m \u001b[32m━━━━━━━━━━━━━━━━━━━━\u001b[0m\u001b[37m\u001b[0m \u001b[1m5s\u001b[0m 196ms/step - accuracy: 0.4703 - loss: 0.0000e+00\n",
            "Epoch 7/10\n",
            "\u001b[1m19/19\u001b[0m \u001b[32m━━━━━━━━━━━━━━━━━━━━\u001b[0m\u001b[37m\u001b[0m \u001b[1m5s\u001b[0m 259ms/step - accuracy: 0.5509 - loss: 0.0000e+00\n",
            "Epoch 8/10\n",
            "\u001b[1m19/19\u001b[0m \u001b[32m━━━━━━━━━━━━━━━━━━━━\u001b[0m\u001b[37m\u001b[0m \u001b[1m4s\u001b[0m 193ms/step - accuracy: 0.4761 - loss: 0.0000e+00\n",
            "Epoch 9/10\n",
            "\u001b[1m19/19\u001b[0m \u001b[32m━━━━━━━━━━━━━━━━━━━━\u001b[0m\u001b[37m\u001b[0m \u001b[1m4s\u001b[0m 194ms/step - accuracy: 0.5005 - loss: 0.0000e+00\n",
            "Epoch 10/10\n",
            "\u001b[1m19/19\u001b[0m \u001b[32m━━━━━━━━━━━━━━━━━━━━\u001b[0m\u001b[37m\u001b[0m \u001b[1m6s\u001b[0m 214ms/step - accuracy: 0.4994 - loss: 0.0000e+00\n"
          ]
        },
        {
          "output_type": "execute_result",
          "data": {
            "text/plain": [
              "<keras.src.callbacks.history.History at 0x7db59f026550>"
            ]
          },
          "metadata": {},
          "execution_count": 14
        }
      ],
      "source": [
        "happy_model.fit(X_train, Y_train, epochs=10, batch_size=32)"
      ]
    },
    {
      "cell_type": "markdown",
      "metadata": {
        "id": "90iLnR7I-2Ra"
      },
      "source": [
        "After that completes, just use `.evaluate()` to evaluate against your test set. This function will print the value of the loss function and the performance metrics specified during the compilation of the model. In this case, the `binary_crossentropy` and the `accuracy` respectively."
      ]
    },
    {
      "cell_type": "code",
      "execution_count": null,
      "metadata": {
        "id": "Ym0E-3ID-2Rb",
        "colab": {
          "base_uri": "https://localhost:8080/"
        },
        "outputId": "17c3baf2-c803-44d7-dc01-1a7aab1b7a3f"
      },
      "outputs": [
        {
          "output_type": "stream",
          "name": "stdout",
          "text": [
            "\u001b[1m5/5\u001b[0m \u001b[32m━━━━━━━━━━━━━━━━━━━━\u001b[0m\u001b[37m\u001b[0m \u001b[1m0s\u001b[0m 47ms/step - accuracy: 0.4375 - loss: 0.0000e+00\n"
          ]
        },
        {
          "output_type": "execute_result",
          "data": {
            "text/plain": [
              "[0.0, 0.4399999976158142]"
            ]
          },
          "metadata": {},
          "execution_count": 15
        }
      ],
      "source": [
        "happy_model.evaluate(X_test, Y_test)"
      ]
    },
    {
      "cell_type": "markdown",
      "metadata": {
        "id": "Phy7YxNL-2Rb"
      },
      "source": [
        "Easy, right? But what if you need to build a model with shared layers, branches, or multiple inputs and outputs? This is where Sequential, with its beautifully simple yet limited functionality, won't be able to help you.\n",
        "\n",
        "Next up: Enter the Functional API, your slightly more complex, highly flexible friend.  "
      ]
    },
    {
      "cell_type": "markdown",
      "metadata": {
        "id": "AkWFODlR-2Rc"
      },
      "source": [
        "<a name='4'></a>\n",
        "## 4 - The Functional API"
      ]
    },
    {
      "cell_type": "markdown",
      "metadata": {
        "id": "PsfJetWh-2Rc"
      },
      "source": [
        "Welcome to the second half of this lab, where you'll use Keras' flexible [Functional API](https://www.tensorflow.org/guide/keras/functional) to build a ConvNet that can differentiate between 6 sign language digits.\n",
        "\n",
        "The Functional API can handle models with non-linear topology, shared layers, as well as layers with multiple inputs or outputs. Imagine that, where the Sequential API requires the model to move in a linear fashion through its layers, the Functional API allows much more flexibility. Where Sequential is a straight line, a Functional model is a graph, where the nodes of the layers can connect in many more ways than one.\n",
        "\n",
        "In the visual example below, the one possible direction of the movement Sequential model is shown in contrast to a skip connection, which is just one of the many ways a Functional model can be constructed. A skip connection, as you might have guessed, skips some layer in the network and feeds the output to a later layer in the network. Don't worry, you'll be spending more time with skip connections very soon!"
      ]
    },
    {
      "cell_type": "markdown",
      "metadata": {
        "id": "LcVZn1Im-2Rc"
      },
      "source": [
        "<p align=\"center\">\n",
        "<img src=\"https://drive.google.com/uc?export=view&id=1YZWhS0S96dKXk0e8_qBOZ_1sCYtmzzQJ\" alt=\"seq_vs_func\" width=\"350\" height=\"250\">>\n",
        "</p>\n",
        "\n"
      ]
    },
    {
      "cell_type": "markdown",
      "metadata": {
        "id": "-byoBA7v-2Rc"
      },
      "source": [
        "<a name='4-1'></a>\n",
        "### 4.1 - Load the SIGNS Dataset\n",
        "\n",
        "As a reminder, the SIGNS dataset is a collection of 6 signs representing numbers from 0 to 5."
      ]
    },
    {
      "cell_type": "code",
      "execution_count": null,
      "metadata": {
        "id": "BNmC9Ucr-2Rc"
      },
      "outputs": [],
      "source": [
        "# Loading the data (signs)\n",
        "X_train_orig, Y_train_orig, X_test_orig, Y_test_orig, classes = load_signs_dataset()"
      ]
    },
    {
      "cell_type": "markdown",
      "metadata": {
        "id": "dWK4iBK--2Rd"
      },
      "source": [
        "<p align=\"center\">\n",
        "<img src=\"https://drive.google.com/uc?export=view&id=1aB3a1U1wms1uTfPlE1h54malpxrAForl\" alt=\"Sign Language\" width=\"800\" height=\"300\">>\n",
        "</p>\n",
        "\n",
        "The next cell will show you an example of a labelled image in the dataset. Feel free to change the value of `index` below and re-run to see different examples."
      ]
    },
    {
      "cell_type": "code",
      "execution_count": null,
      "metadata": {
        "id": "5RVhbipq-2Rd",
        "colab": {
          "base_uri": "https://localhost:8080/",
          "height": 449
        },
        "outputId": "39f4f683-e7a2-4f73-8268-45ed72c72c2e"
      },
      "outputs": [
        {
          "output_type": "stream",
          "name": "stdout",
          "text": [
            "y = 2\n"
          ]
        },
        {
          "output_type": "display_data",
          "data": {
            "text/plain": [
              "<Figure size 640x480 with 1 Axes>"
            ],
            "image/png": "[encoded data removed]"
          },
          "metadata": {}
        }
      ],
      "source": [
        "# Example of an image from the dataset\n",
        "index = 2\n",
        "plt.imshow(X_train_orig[index])\n",
        "print (\"y = \" + str(np.squeeze(Y_train_orig[:, index])))"
      ]
    },
    {
      "cell_type": "markdown",
      "metadata": {
        "id": "rLviRQ8b-2Rd"
      },
      "source": [
        "<a name='4-2'></a>\n",
        "### 4.2 - Split the Data into Train/Test Sets\n",
        "\n",
        "In Course 2, you built a fully-connected network for this dataset. But since this is an image dataset, it is more natural to apply a ConvNet to it.\n",
        "\n",
        "To get started, let's examine the shapes of your data."
      ]
    },
    {
      "cell_type": "code",
      "execution_count": null,
      "metadata": {
        "id": "jbHUrKva-2Rd",
        "colab": {
          "base_uri": "https://localhost:8080/"
        },
        "outputId": "9c3e1d43-de85-4d8d-bf56-120e1bc7ea2e"
      },
      "outputs": [
        {
          "output_type": "stream",
          "name": "stdout",
          "text": [
            "number of training examples = 1080\n",
            "number of test examples = 120\n",
            "X_train shape: (1080, 64, 64, 3)\n",
            "Y_train shape: (1080, 6)\n",
            "X_test shape: (120, 64, 64, 3)\n",
            "Y_test shape: (120, 6)\n"
          ]
        }
      ],
      "source": [
        "X_train = X_train_orig/255.\n",
        "X_test = X_test_orig/255.\n",
        "Y_train = convert_to_one_hot(Y_train_orig, 6).T\n",
        "Y_test = convert_to_one_hot(Y_test_orig, 6).T\n",
        "print (\"number of training examples = \" + str(X_train.shape[0]))\n",
        "print (\"number of test examples = \" + str(X_test.shape[0]))\n",
        "print (\"X_train shape: \" + str(X_train.shape))\n",
        "print (\"Y_train shape: \" + str(Y_train.shape))\n",
        "print (\"X_test shape: \" + str(X_test.shape))\n",
        "print (\"Y_test shape: \" + str(Y_test.shape))"
      ]
    },
    {
      "cell_type": "markdown",
      "metadata": {
        "id": "lEGHUSZh-2Rd"
      },
      "source": [
        "<a name='4-3'></a>\n",
        "### 4.3 - Forward Propagation\n",
        "\n",
        "In TensorFlow, there are built-in functions that implement the convolution steps for you. By now, you should be familiar with how TensorFlow builds computational graphs. In the [Functional API](https://www.tensorflow.org/guide/keras/functional), you create a graph of layers. This is what allows such great flexibility.\n",
        "\n",
        "However, the following model could also be defined using the Sequential API since the information flow is on a single line. But don't deviate. What we want you to learn is to use the functional API.\n",
        "\n",
        "Begin building your graph of layers by creating an input node that functions as a callable object:\n",
        "\n",
        "- **input_img = tf.keras.Input(shape=input_shape):**\n",
        "\n",
        "Then, create a new node in the graph of layers by calling a layer on the `input_img` object:\n",
        "\n",
        "- **tf.keras.layers.Conv2D(filters= ... , kernel_size= ... , padding='same')(input_img):** Read the full documentation on [Conv2D](https://www.tensorflow.org/api_docs/python/tf/keras/layers/Conv2D).\n",
        "\n",
        "- **tf.keras.layers.MaxPool2D(pool_size=(f, f), strides=(s, s), padding='same'):** `MaxPool2D()` downsamples your input using a window of size (f, f) and strides of size (s, s) to carry out max pooling over each window.  For max pooling, you usually operate on a single example at a time and a single channel at a time. Read the full documentation on [MaxPool2D](https://www.tensorflow.org/api_docs/python/tf/keras/layers/MaxPool2D).\n",
        "\n",
        "- **tf.keras.layers.ReLU():** computes the elementwise ReLU of Z (which can be any shape). You can read the full documentation on [ReLU](https://www.tensorflow.org/api_docs/python/tf/keras/layers/ReLU).\n",
        "\n",
        "- **tf.keras.layers.Flatten()**: given a tensor \"P\", this function takes each training (or test) example in the batch and flattens it into a 1D vector.  \n",
        "\n",
        "    * If a tensor P has the shape (batch_size,h,w,c), it returns a flattened tensor with shape (batch_size, k), where k=h * w * c.  \"k\" equals the product of all the dimension sizes other than the first dimension.\n",
        "    \n",
        "    * For example, given a tensor with dimensions [100, 2, 3, 4], it flattens the tensor to be of shape [100, 24], where 24 = 2 * 3 * 4.  You can read the full documentation on [Flatten](https://www.tensorflow.org/api_docs/python/tf/keras/layers/Flatten).\n",
        "\n",
        "- **tf.keras.layers.Dense(units= ... , activation='softmax')(F):** given the flattened input F, it returns the output computed using a fully connected layer. You can read the full documentation on [Dense](https://www.tensorflow.org/api_docs/python/tf/keras/layers/Dense).\n",
        "\n",
        "In the last function above (`tf.keras.layers.Dense()`), the fully connected layer automatically initializes weights in the graph and keeps on training them as you train the model. Hence, you did not need to initialize those weights when initializing the parameters.\n",
        "\n",
        "Lastly, before creating the model, you'll need to define the output using the last of the function's compositions (in this example, a Dense layer):\n",
        "\n",
        "- **outputs = tf.keras.layers.Dense(units=6, activation='softmax')(F)**\n",
        "\n",
        "\n",
        "#### Window, kernel, filter, pool\n",
        "\n",
        "The words \"kernel\" and \"filter\" are used to refer to the same thing. The word \"filter\" accounts for the amount of \"kernels\" that will be used in a single convolution layer. \"Pool\" is the name of the operation that takes the max or average value of the kernels.\n",
        "\n",
        "This is why the parameter `pool_size` refers to `kernel_size`, and you use `(f,f)` to refer to the filter size.\n",
        "\n",
        "Pool size and kernel size refer to the same thing in different objects - They refer to the shape of the window where the operation takes place."
      ]
    },
    {
      "cell_type": "markdown",
      "metadata": {
        "id": "K19Ixtct-2Rd"
      },
      "source": [
        "<a name='ex-2'></a>\n",
        "### Exercise 2 - convolutional_model\n",
        "\n",
        "Implement the `convolutional_model` function below to build the following model: `CONV2D -> RELU -> MAXPOOL -> CONV2D -> RELU -> MAXPOOL -> FLATTEN -> DENSE`. Use the functions above!\n",
        "\n",
        "Also, plug in the following parameters for all the steps:\n",
        "\n",
        " - [Conv2D](https://www.tensorflow.org/api_docs/python/tf/keras/layers/Conv2D): Use 8 4 by 4 filters, stride 1, padding is \"SAME\"\n",
        " - [ReLU](https://www.tensorflow.org/api_docs/python/tf/keras/layers/ReLU)\n",
        " - [MaxPool2D](https://www.tensorflow.org/api_docs/python/tf/keras/layers/MaxPool2D): Use an 8 by 8 filter size and an 8 by 8 stride, padding is \"SAME\"\n",
        " - **Conv2D**: Use 16 2 by 2 filters, stride 1, padding is \"SAME\"\n",
        " - **ReLU**\n",
        " - **MaxPool2D**: Use a 4 by 4 filter size and a 4 by 4 stride, padding is \"SAME\"\n",
        " - [Flatten](https://www.tensorflow.org/api_docs/python/tf/keras/layers/Flatten) the previous output.\n",
        " - Fully-connected ([Dense](https://www.tensorflow.org/api_docs/python/tf/keras/layers/Dense)) layer: Apply a fully connected layer with 6 neurons and a softmax activation."
      ]
    },
    {
      "cell_type": "code",
      "execution_count": null,
      "metadata": {
        "deletable": false,
        "nbgrader": {
          "cell_type": "code",
          "checksum": "f58643806aa8380c96225fc8b4c5e7aa",
          "grade": false,
          "grade_id": "cell-dac51744a9e03f51",
          "locked": false,
          "schema_version": 3,
          "solution": true,
          "task": false
        },
        "id": "O_7M_nnr-2Rd"
      },
      "outputs": [],
      "source": [
        "import tensorflow as tf\n",
        "from tensorflow.keras.layers import Conv2D, Activation, MaxPooling2D, Flatten, Dense, Input\n",
        "\n",
        "def convolutional_model(input_shape):\n",
        "    \"\"\"\n",
        "    Implements:\n",
        "    CONV2D -> RELU -> MAXPOOL -> CONV2D -> RELU -> MAXPOOL -> FLATTEN -> DENSE\n",
        "    \"\"\"\n",
        "\n",
        "    input_img = Input(shape=input_shape)\n",
        "\n",
        "    # CONV2D: 8 filters, 4x4 kernel, stride 1, padding 'SAME'\n",
        "    x = Conv2D(filters=8, kernel_size=(4, 4), strides=(1, 1), padding='same')(input_img)\n",
        "    x = Activation('relu')(x)\n",
        "\n",
        "    # MAXPOOL: 8x8, stride 8, padding 'SAME'\n",
        "    x = MaxPooling2D(pool_size=(8, 8), strides=8, padding='same')(x)\n",
        "\n",
        "    # CONV2D: 16 filters, 2x2 kernel, stride 1, padding 'SAME'\n",
        "    x = Conv2D(filters=16, kernel_size=(2, 2), strides=(1, 1), padding='same')(x)\n",
        "    x = Activation('relu')(x)\n",
        "\n",
        "    # MAXPOOL: 4x4, stride 4, padding 'SAME'\n",
        "    x = MaxPooling2D(pool_size=(4, 4), strides=4, padding='same')(x)\n",
        "\n",
        "    # Flatten + Dense softmax\n",
        "    x = Flatten()(x)\n",
        "    outputs = Dense(units=6, activation='softmax')(x)\n",
        "\n",
        "    model = tf.keras.Model(inputs=input_img, outputs=outputs)\n",
        "\n",
        "    return model\n"
      ]
    },
    {
      "cell_type": "code",
      "execution_count": null,
      "metadata": {
        "deletable": false,
        "editable": false,
        "nbgrader": {
          "cell_type": "code",
          "checksum": "483d626949930a0b0ef20997e7c6ba72",
          "grade": true,
          "grade_id": "cell-45d22e92042174c9",
          "locked": true,
          "points": 10,
          "schema_version": 3,
          "solution": false,
          "task": false
        },
        "id": "HDUVSNYx-2Rf",
        "colab": {
          "base_uri": "https://localhost:8080/",
          "height": 459
        },
        "outputId": "cca1e892-b942-4513-d070-95667cb31f84"
      },
      "outputs": [
        {
          "output_type": "display_data",
          "data": {
            "text/plain": [
              "\u001b[1mModel: \"functional_1\"\u001b[0m\n"
            ],
            "text/html": [
              "<pre style=\"white-space:pre;overflow-x:auto;line-height:normal;font-family:Menlo,'DejaVu Sans Mono',consolas,'Courier New',monospace\"><span style=\"font-weight: bold\">Model: \"functional_1\"</span>\n",
              "</pre>\n"
            ]
          },
          "metadata": {}
        },
        {
          "output_type": "display_data",
          "data": {
            "text/plain": [
              "┏━━━━━━━━━━━━━━━━━━━━━━━━━━━━━━━━━━━━━━┳━━━━━━━━━━━━━━━━━━━━━━━━━━━━━┳━━━━━━━━━━━━━━━━━┓\n",
              "┃\u001b[1m \u001b[0m\u001b[1mLayer (type)                        \u001b[0m\u001b[1m \u001b[0m┃\u001b[1m \u001b[0m\u001b[1mOutput Shape               \u001b[0m\u001b[1m \u001b[0m┃\u001b[1m \u001b[0m\u001b[1m        Param #\u001b[0m\u001b[1m \u001b[0m┃\n",
              "┡━━━━━━━━━━━━━━━━━━━━━━━━━━━━━━━━━━━━━━╇━━━━━━━━━━━━━━━━━━━━━━━━━━━━━╇━━━━━━━━━━━━━━━━━┩\n",
              "│ input_layer_1 (\u001b[38;5;33mInputLayer\u001b[0m)           │ (\u001b[38;5;45mNone\u001b[0m, \u001b[38;5;34m64\u001b[0m, \u001b[38;5;34m64\u001b[0m, \u001b[38;5;34m3\u001b[0m)           │               \u001b[38;5;34m0\u001b[0m │\n",
              "├──────────────────────────────────────┼─────────────────────────────┼─────────────────┤\n",
              "│ conv2d (\u001b[38;5;33mConv2D\u001b[0m)                      │ (\u001b[38;5;45mNone\u001b[0m, \u001b[38;5;34m64\u001b[0m, \u001b[38;5;34m64\u001b[0m, \u001b[38;5;34m8\u001b[0m)           │             \u001b[38;5;34m392\u001b[0m │\n",
              "├──────────────────────────────────────┼─────────────────────────────┼─────────────────┤\n",
              "│ activation_1 (\u001b[38;5;33mActivation\u001b[0m)            │ (\u001b[38;5;45mNone\u001b[0m, \u001b[38;5;34m64\u001b[0m, \u001b[38;5;34m64\u001b[0m, \u001b[38;5;34m8\u001b[0m)           │               \u001b[38;5;34m0\u001b[0m │\n",
              "├──────────────────────────────────────┼─────────────────────────────┼─────────────────┤\n",
              "│ max_pooling2d (\u001b[38;5;33mMaxPooling2D\u001b[0m)         │ (\u001b[38;5;45mNone\u001b[0m, \u001b[38;5;34m8\u001b[0m, \u001b[38;5;34m8\u001b[0m, \u001b[38;5;34m8\u001b[0m)             │               \u001b[38;5;34m0\u001b[0m │\n",
              "├──────────────────────────────────────┼─────────────────────────────┼─────────────────┤\n",
              "│ conv2d_1 (\u001b[38;5;33mConv2D\u001b[0m)                    │ (\u001b[38;5;45mNone\u001b[0m, \u001b[38;5;34m8\u001b[0m, \u001b[38;5;34m8\u001b[0m, \u001b[38;5;34m16\u001b[0m)            │             \u001b[38;5;34m528\u001b[0m │\n",
              "├──────────────────────────────────────┼─────────────────────────────┼─────────────────┤\n",
              "│ activation_2 (\u001b[38;5;33mActivation\u001b[0m)            │ (\u001b[38;5;45mNone\u001b[0m, \u001b[38;5;34m8\u001b[0m, \u001b[38;5;34m8\u001b[0m, \u001b[38;5;34m16\u001b[0m)            │               \u001b[38;5;34m0\u001b[0m │\n",
              "├──────────────────────────────────────┼─────────────────────────────┼─────────────────┤\n",
              "│ max_pooling2d_1 (\u001b[38;5;33mMaxPooling2D\u001b[0m)       │ (\u001b[38;5;45mNone\u001b[0m, \u001b[38;5;34m2\u001b[0m, \u001b[38;5;34m2\u001b[0m, \u001b[38;5;34m16\u001b[0m)            │               \u001b[38;5;34m0\u001b[0m │\n",
              "├──────────────────────────────────────┼─────────────────────────────┼─────────────────┤\n",
              "│ flatten_1 (\u001b[38;5;33mFlatten\u001b[0m)                  │ (\u001b[38;5;45mNone\u001b[0m, \u001b[38;5;34m64\u001b[0m)                  │               \u001b[38;5;34m0\u001b[0m │\n",
              "├──────────────────────────────────────┼─────────────────────────────┼─────────────────┤\n",
              "│ dense (\u001b[38;5;33mDense\u001b[0m)                        │ (\u001b[38;5;45mNone\u001b[0m, \u001b[38;5;34m6\u001b[0m)                   │             \u001b[38;5;34m390\u001b[0m │\n",
              "└──────────────────────────────────────┴─────────────────────────────┴─────────────────┘\n"
            ],
            "text/html": [
              "<pre style=\"white-space:pre;overflow-x:auto;line-height:normal;font-family:Menlo,'DejaVu Sans Mono',consolas,'Courier New',monospace\">┏━━━━━━━━━━━━━━━━━━━━━━━━━━━━━━━━━━━━━━┳━━━━━━━━━━━━━━━━━━━━━━━━━━━━━┳━━━━━━━━━━━━━━━━━┓\n",
              "┃<span style=\"font-weight: bold\"> Layer (type)                         </span>┃<span style=\"font-weight: bold\"> Output Shape                </span>┃<span style=\"font-weight: bold\">         Param # </span>┃\n",
              "┡━━━━━━━━━━━━━━━━━━━━━━━━━━━━━━━━━━━━━━╇━━━━━━━━━━━━━━━━━━━━━━━━━━━━━╇━━━━━━━━━━━━━━━━━┩\n",
              "│ input_layer_1 (<span style=\"color: #0087ff; text-decoration-color: #0087ff\">InputLayer</span>)           │ (<span style=\"color: #00d7ff; text-decoration-color: #00d7ff\">None</span>, <span style=\"color: #00af00; text-decoration-color: #00af00\">64</span>, <span style=\"color: #00af00; text-decoration-color: #00af00\">64</span>, <span style=\"color: #00af00; text-decoration-color: #00af00\">3</span>)           │               <span style=\"color: #00af00; text-decoration-color: #00af00\">0</span> │\n",
              "├──────────────────────────────────────┼─────────────────────────────┼─────────────────┤\n",
              "│ conv2d (<span style=\"color: #0087ff; text-decoration-color: #0087ff\">Conv2D</span>)                      │ (<span style=\"color: #00d7ff; text-decoration-color: #00d7ff\">None</span>, <span style=\"color: #00af00; text-decoration-color: #00af00\">64</span>, <span style=\"color: #00af00; text-decoration-color: #00af00\">64</span>, <span style=\"color: #00af00; text-decoration-color: #00af00\">8</span>)           │             <span style=\"color: #00af00; text-decoration-color: #00af00\">392</span> │\n",
              "├──────────────────────────────────────┼─────────────────────────────┼─────────────────┤\n",
              "│ activation_1 (<span style=\"color: #0087ff; text-decoration-color: #0087ff\">Activation</span>)            │ (<span style=\"color: #00d7ff; text-decoration-color: #00d7ff\">None</span>, <span style=\"color: #00af00; text-decoration-color: #00af00\">64</span>, <span style=\"color: #00af00; text-decoration-color: #00af00\">64</span>, <span style=\"color: #00af00; text-decoration-color: #00af00\">8</span>)           │               <span style=\"color: #00af00; text-decoration-color: #00af00\">0</span> │\n",
              "├──────────────────────────────────────┼─────────────────────────────┼─────────────────┤\n",
              "│ max_pooling2d (<span style=\"color: #0087ff; text-decoration-color: #0087ff\">MaxPooling2D</span>)         │ (<span style=\"color: #00d7ff; text-decoration-color: #00d7ff\">None</span>, <span style=\"color: #00af00; text-decoration-color: #00af00\">8</span>, <span style=\"color: #00af00; text-decoration-color: #00af00\">8</span>, <span style=\"color: #00af00; text-decoration-color: #00af00\">8</span>)             │               <span style=\"color: #00af00; text-decoration-color: #00af00\">0</span> │\n",
              "├──────────────────────────────────────┼─────────────────────────────┼─────────────────┤\n",
              "│ conv2d_1 (<span style=\"color: #0087ff; text-decoration-color: #0087ff\">Conv2D</span>)                    │ (<span style=\"color: #00d7ff; text-decoration-color: #00d7ff\">None</span>, <span style=\"color: #00af00; text-decoration-color: #00af00\">8</span>, <span style=\"color: #00af00; text-decoration-color: #00af00\">8</span>, <span style=\"color: #00af00; text-decoration-color: #00af00\">16</span>)            │             <span style=\"color: #00af00; text-decoration-color: #00af00\">528</span> │\n",
              "├──────────────────────────────────────┼─────────────────────────────┼─────────────────┤\n",
              "│ activation_2 (<span style=\"color: #0087ff; text-decoration-color: #0087ff\">Activation</span>)            │ (<span style=\"color: #00d7ff; text-decoration-color: #00d7ff\">None</span>, <span style=\"color: #00af00; text-decoration-color: #00af00\">8</span>, <span style=\"color: #00af00; text-decoration-color: #00af00\">8</span>, <span style=\"color: #00af00; text-decoration-color: #00af00\">16</span>)            │               <span style=\"color: #00af00; text-decoration-color: #00af00\">0</span> │\n",
              "├──────────────────────────────────────┼─────────────────────────────┼─────────────────┤\n",
              "│ max_pooling2d_1 (<span style=\"color: #0087ff; text-decoration-color: #0087ff\">MaxPooling2D</span>)       │ (<span style=\"color: #00d7ff; text-decoration-color: #00d7ff\">None</span>, <span style=\"color: #00af00; text-decoration-color: #00af00\">2</span>, <span style=\"color: #00af00; text-decoration-color: #00af00\">2</span>, <span style=\"color: #00af00; text-decoration-color: #00af00\">16</span>)            │               <span style=\"color: #00af00; text-decoration-color: #00af00\">0</span> │\n",
              "├──────────────────────────────────────┼─────────────────────────────┼─────────────────┤\n",
              "│ flatten_1 (<span style=\"color: #0087ff; text-decoration-color: #0087ff\">Flatten</span>)                  │ (<span style=\"color: #00d7ff; text-decoration-color: #00d7ff\">None</span>, <span style=\"color: #00af00; text-decoration-color: #00af00\">64</span>)                  │               <span style=\"color: #00af00; text-decoration-color: #00af00\">0</span> │\n",
              "├──────────────────────────────────────┼─────────────────────────────┼─────────────────┤\n",
              "│ dense (<span style=\"color: #0087ff; text-decoration-color: #0087ff\">Dense</span>)                        │ (<span style=\"color: #00d7ff; text-decoration-color: #00d7ff\">None</span>, <span style=\"color: #00af00; text-decoration-color: #00af00\">6</span>)                   │             <span style=\"color: #00af00; text-decoration-color: #00af00\">390</span> │\n",
              "└──────────────────────────────────────┴─────────────────────────────┴─────────────────┘\n",
              "</pre>\n"
            ]
          },
          "metadata": {}
        },
        {
          "output_type": "display_data",
          "data": {
            "text/plain": [
              "\u001b[1m Total params: \u001b[0m\u001b[38;5;34m1,310\u001b[0m (5.12 KB)\n"
            ],
            "text/html": [
              "<pre style=\"white-space:pre;overflow-x:auto;line-height:normal;font-family:Menlo,'DejaVu Sans Mono',consolas,'Courier New',monospace\"><span style=\"font-weight: bold\"> Total params: </span><span style=\"color: #00af00; text-decoration-color: #00af00\">1,310</span> (5.12 KB)\n",
              "</pre>\n"
            ]
          },
          "metadata": {}
        },
        {
          "output_type": "display_data",
          "data": {
            "text/plain": [
              "\u001b[1m Trainable params: \u001b[0m\u001b[38;5;34m1,310\u001b[0m (5.12 KB)\n"
            ],
            "text/html": [
              "<pre style=\"white-space:pre;overflow-x:auto;line-height:normal;font-family:Menlo,'DejaVu Sans Mono',consolas,'Courier New',monospace\"><span style=\"font-weight: bold\"> Trainable params: </span><span style=\"color: #00af00; text-decoration-color: #00af00\">1,310</span> (5.12 KB)\n",
              "</pre>\n"
            ]
          },
          "metadata": {}
        },
        {
          "output_type": "display_data",
          "data": {
            "text/plain": [
              "\u001b[1m Non-trainable params: \u001b[0m\u001b[38;5;34m0\u001b[0m (0.00 B)\n"
            ],
            "text/html": [
              "<pre style=\"white-space:pre;overflow-x:auto;line-height:normal;font-family:Menlo,'DejaVu Sans Mono',consolas,'Courier New',monospace\"><span style=\"font-weight: bold\"> Non-trainable params: </span><span style=\"color: #00af00; text-decoration-color: #00af00\">0</span> (0.00 B)\n",
              "</pre>\n"
            ]
          },
          "metadata": {}
        },
        {
          "output_type": "stream",
          "name": "stdout",
          "text": [
            "All tests passed!\n"
          ]
        }
      ],
      "source": [
        "conv_model = convolutional_model((64, 64, 3))\n",
        "conv_model.compile(optimizer='adam',\n",
        "                  loss='categorical_crossentropy',\n",
        "                  metrics=['accuracy'])\n",
        "conv_model.summary()\n",
        "\n",
        "output = [['InputLayer', [(None, 64, 64, 3)], 0],\n",
        "        ['Conv2D', (None, 64, 64, 8), 392, 'same', 'linear', 'GlorotUniform'],\n",
        "        ['ReLU', (None, 64, 64, 8), 0],\n",
        "        ['MaxPooling2D', (None, 8, 8, 8), 0, (8, 8), (8, 8), 'same'],\n",
        "        ['Conv2D', (None, 8, 8, 16), 528, 'same', 'linear', 'GlorotUniform'],\n",
        "        ['ReLU', (None, 8, 8, 16), 0],\n",
        "        ['MaxPooling2D', (None, 2, 2, 16), 0, (4, 4), (4, 4), 'same'],\n",
        "        ['Flatten', (None, 64), 0],\n",
        "        ['Dense', (None, 6), 390, 'softmax']]\n",
        "\n",
        "comparator(summary(conv_model), output)"
      ]
    },
    {
      "cell_type": "markdown",
      "metadata": {
        "id": "WJ1apdkA-2Rf"
      },
      "source": [
        "Both the Sequential and Functional APIs return a TF Keras model object. The only difference is how inputs are handled inside the object model!"
      ]
    },
    {
      "cell_type": "markdown",
      "metadata": {
        "id": "OUTmQm71-2Rg"
      },
      "source": [
        "<a name='4-4'></a>\n",
        "### 4.4 - Train the Model"
      ]
    },
    {
      "cell_type": "code",
      "execution_count": null,
      "metadata": {
        "id": "J-Zz_lnW-2Rh",
        "colab": {
          "base_uri": "https://localhost:8080/"
        },
        "outputId": "f26abf13-0afc-40f1-ca24-109b106a3b36"
      },
      "outputs": [
        {
          "output_type": "stream",
          "name": "stdout",
          "text": [
            "Epoch 1/100\n",
            "\u001b[1m17/17\u001b[0m \u001b[32m━━━━━━━━━━━━━━━━━━━━\u001b[0m\u001b[37m\u001b[0m \u001b[1m3s\u001b[0m 105ms/step - accuracy: 0.1563 - loss: 1.8828 - val_accuracy: 0.1667 - val_loss: 1.7936\n",
            "Epoch 2/100\n",
            "\u001b[1m17/17\u001b[0m \u001b[32m━━━━━━━━━━━━━━━━━━━━\u001b[0m\u001b[37m\u001b[0m \u001b[1m3s\u001b[0m 151ms/step - accuracy: 0.2096 - loss: 1.7884 - val_accuracy: 0.1667 - val_loss: 1.7816\n",
            "Epoch 3/100\n",
            "\u001b[1m17/17\u001b[0m \u001b[32m━━━━━━━━━━━━━━━━━━━━\u001b[0m\u001b[37m\u001b[0m \u001b[1m2s\u001b[0m 114ms/step - accuracy: 0.1638 - loss: 1.7824 - val_accuracy: 0.1667 - val_loss: 1.7764\n",
            "Epoch 4/100\n",
            "\u001b[1m17/17\u001b[0m \u001b[32m━━━━━━━━━━━━━━━━━━━━\u001b[0m\u001b[37m\u001b[0m \u001b[1m3s\u001b[0m 184ms/step - accuracy: 0.2065 - loss: 1.7752 - val_accuracy: 0.2917 - val_loss: 1.7695\n",
            "Epoch 5/100\n",
            "\u001b[1m17/17\u001b[0m \u001b[32m━━━━━━━━━━━━━━━━━━━━\u001b[0m\u001b[37m\u001b[0m \u001b[1m3s\u001b[0m 185ms/step - accuracy: 0.2961 - loss: 1.7651 - val_accuracy: 0.3833 - val_loss: 1.7613\n",
            "Epoch 6/100\n",
            "\u001b[1m17/17\u001b[0m \u001b[32m━━━━━━━━━━━━━━━━━━━━\u001b[0m\u001b[37m\u001b[0m \u001b[1m2s\u001b[0m 93ms/step - accuracy: 0.3286 - loss: 1.7561 - val_accuracy: 0.3417 - val_loss: 1.7538\n",
            "Epoch 7/100\n",
            "\u001b[1m17/17\u001b[0m \u001b[32m━━━━━━━━━━━━━━━━━━━━\u001b[0m\u001b[37m\u001b[0m \u001b[1m2s\u001b[0m 136ms/step - accuracy: 0.3585 - loss: 1.7470 - val_accuracy: 0.4333 - val_loss: 1.7449\n",
            "Epoch 8/100\n",
            "\u001b[1m17/17\u001b[0m \u001b[32m━━━━━━━━━━━━━━━━━━━━\u001b[0m\u001b[37m\u001b[0m \u001b[1m2s\u001b[0m 120ms/step - accuracy: 0.4161 - loss: 1.7360 - val_accuracy: 0.4667 - val_loss: 1.7343\n",
            "Epoch 9/100\n",
            "\u001b[1m17/17\u001b[0m \u001b[32m━━━━━━━━━━━━━━━━━━━━\u001b[0m\u001b[37m\u001b[0m \u001b[1m2s\u001b[0m 91ms/step - accuracy: 0.4328 - loss: 1.7240 - val_accuracy: 0.4750 - val_loss: 1.7231\n",
            "Epoch 10/100\n",
            "\u001b[1m17/17\u001b[0m \u001b[32m━━━━━━━━━━━━━━━━━━━━\u001b[0m\u001b[37m\u001b[0m \u001b[1m2s\u001b[0m 94ms/step - accuracy: 0.4500 - loss: 1.7103 - val_accuracy: 0.4417 - val_loss: 1.7085\n",
            "Epoch 11/100\n",
            "\u001b[1m17/17\u001b[0m \u001b[32m━━━━━━━━━━━━━━━━━━━━\u001b[0m\u001b[37m\u001b[0m \u001b[1m2s\u001b[0m 96ms/step - accuracy: 0.4670 - loss: 1.6931 - val_accuracy: 0.4333 - val_loss: 1.6922\n",
            "Epoch 12/100\n",
            "\u001b[1m17/17\u001b[0m \u001b[32m━━━━━━━━━━━━━━━━━━━━\u001b[0m\u001b[37m\u001b[0m \u001b[1m2s\u001b[0m 92ms/step - accuracy: 0.4942 - loss: 1.6724 - val_accuracy: 0.4583 - val_loss: 1.6738\n",
            "Epoch 13/100\n",
            "\u001b[1m17/17\u001b[0m \u001b[32m━━━━━━━━━━━━━━━━━━━━\u001b[0m\u001b[37m\u001b[0m \u001b[1m3s\u001b[0m 92ms/step - accuracy: 0.5066 - loss: 1.6492 - val_accuracy: 0.4583 - val_loss: 1.6535\n",
            "Epoch 14/100\n",
            "\u001b[1m17/17\u001b[0m \u001b[32m━━━━━━━━━━━━━━━━━━━━\u001b[0m\u001b[37m\u001b[0m \u001b[1m3s\u001b[0m 151ms/step - accuracy: 0.4882 - loss: 1.6215 - val_accuracy: 0.4750 - val_loss: 1.6284\n",
            "Epoch 15/100\n",
            "\u001b[1m17/17\u001b[0m \u001b[32m━━━━━━━━━━━━━━━━━━━━\u001b[0m\u001b[37m\u001b[0m \u001b[1m2s\u001b[0m 107ms/step - accuracy: 0.5269 - loss: 1.5896 - val_accuracy: 0.5167 - val_loss: 1.5962\n",
            "Epoch 16/100\n",
            "\u001b[1m17/17\u001b[0m \u001b[32m━━━━━━━━━━━━━━━━━━━━\u001b[0m\u001b[37m\u001b[0m \u001b[1m2s\u001b[0m 92ms/step - accuracy: 0.5470 - loss: 1.5536 - val_accuracy: 0.5250 - val_loss: 1.5605\n",
            "Epoch 17/100\n",
            "\u001b[1m17/17\u001b[0m \u001b[32m━━━━━━━━━━━━━━━━━━━━\u001b[0m\u001b[37m\u001b[0m \u001b[1m2s\u001b[0m 95ms/step - accuracy: 0.5511 - loss: 1.5151 - val_accuracy: 0.5250 - val_loss: 1.5247\n",
            "Epoch 18/100\n",
            "\u001b[1m17/17\u001b[0m \u001b[32m━━━━━━━━━━━━━━━━━━━━\u001b[0m\u001b[37m\u001b[0m \u001b[1m2s\u001b[0m 100ms/step - accuracy: 0.5542 - loss: 1.4753 - val_accuracy: 0.5500 - val_loss: 1.4866\n",
            "Epoch 19/100\n",
            "\u001b[1m17/17\u001b[0m \u001b[32m━━━━━━━━━━━━━━━━━━━━\u001b[0m\u001b[37m\u001b[0m \u001b[1m2s\u001b[0m 91ms/step - accuracy: 0.5574 - loss: 1.4345 - val_accuracy: 0.5583 - val_loss: 1.4484\n",
            "Epoch 20/100\n",
            "\u001b[1m17/17\u001b[0m \u001b[32m━━━━━━━━━━━━━━━━━━━━\u001b[0m\u001b[37m\u001b[0m \u001b[1m2s\u001b[0m 91ms/step - accuracy: 0.5684 - loss: 1.3936 - val_accuracy: 0.5500 - val_loss: 1.4086\n",
            "Epoch 21/100\n",
            "\u001b[1m17/17\u001b[0m \u001b[32m━━━━━━━━━━━━━━━━━━━━\u001b[0m\u001b[37m\u001b[0m \u001b[1m2s\u001b[0m 123ms/step - accuracy: 0.5790 - loss: 1.3528 - val_accuracy: 0.5583 - val_loss: 1.3707\n",
            "Epoch 22/100\n",
            "\u001b[1m17/17\u001b[0m \u001b[32m━━━━━━━━━━━━━━━━━━━━\u001b[0m\u001b[37m\u001b[0m \u001b[1m2s\u001b[0m 107ms/step - accuracy: 0.5913 - loss: 1.3129 - val_accuracy: 0.5417 - val_loss: 1.3321\n",
            "Epoch 23/100\n",
            "\u001b[1m17/17\u001b[0m \u001b[32m━━━━━━━━━━━━━━━━━━━━\u001b[0m\u001b[37m\u001b[0m \u001b[1m2s\u001b[0m 92ms/step - accuracy: 0.6028 - loss: 1.2749 - val_accuracy: 0.5583 - val_loss: 1.2965\n",
            "Epoch 24/100\n",
            "\u001b[1m17/17\u001b[0m \u001b[32m━━━━━━━━━━━━━━━━━━━━\u001b[0m\u001b[37m\u001b[0m \u001b[1m2s\u001b[0m 91ms/step - accuracy: 0.6037 - loss: 1.2385 - val_accuracy: 0.6000 - val_loss: 1.2602\n",
            "Epoch 25/100\n",
            "\u001b[1m17/17\u001b[0m \u001b[32m━━━━━━━━━━━━━━━━━━━━\u001b[0m\u001b[37m\u001b[0m \u001b[1m3s\u001b[0m 91ms/step - accuracy: 0.6184 - loss: 1.2034 - val_accuracy: 0.6000 - val_loss: 1.2261\n",
            "Epoch 26/100\n",
            "\u001b[1m17/17\u001b[0m \u001b[32m━━━━━━━━━━━━━━━━━━━━\u001b[0m\u001b[37m\u001b[0m \u001b[1m2s\u001b[0m 91ms/step - accuracy: 0.6322 - loss: 1.1699 - val_accuracy: 0.6167 - val_loss: 1.1930\n",
            "Epoch 27/100\n",
            "\u001b[1m17/17\u001b[0m \u001b[32m━━━━━━━━━━━━━━━━━━━━\u001b[0m\u001b[37m\u001b[0m \u001b[1m2s\u001b[0m 91ms/step - accuracy: 0.6448 - loss: 1.1371 - val_accuracy: 0.6167 - val_loss: 1.1587\n",
            "Epoch 28/100\n",
            "\u001b[1m17/17\u001b[0m \u001b[32m━━━━━━━━━━━━━━━━━━━━\u001b[0m\u001b[37m\u001b[0m \u001b[1m2s\u001b[0m 148ms/step - accuracy: 0.6513 - loss: 1.1045 - val_accuracy: 0.6083 - val_loss: 1.1265\n",
            "Epoch 29/100\n",
            "\u001b[1m17/17\u001b[0m \u001b[32m━━━━━━━━━━━━━━━━━━━━\u001b[0m\u001b[37m\u001b[0m \u001b[1m2s\u001b[0m 97ms/step - accuracy: 0.6693 - loss: 1.0743 - val_accuracy: 0.6083 - val_loss: 1.0940\n",
            "Epoch 30/100\n",
            "\u001b[1m17/17\u001b[0m \u001b[32m━━━━━━━━━━━━━━━━━━━━\u001b[0m\u001b[37m\u001b[0m \u001b[1m2s\u001b[0m 94ms/step - accuracy: 0.6746 - loss: 1.0448 - val_accuracy: 0.6083 - val_loss: 1.0649\n",
            "Epoch 31/100\n",
            "\u001b[1m17/17\u001b[0m \u001b[32m━━━━━━━━━━━━━━━━━━━━\u001b[0m\u001b[37m\u001b[0m \u001b[1m2s\u001b[0m 92ms/step - accuracy: 0.6845 - loss: 1.0162 - val_accuracy: 0.6167 - val_loss: 1.0341\n",
            "Epoch 32/100\n",
            "\u001b[1m17/17\u001b[0m \u001b[32m━━━━━━━━━━━━━━━━━━━━\u001b[0m\u001b[37m\u001b[0m \u001b[1m2s\u001b[0m 91ms/step - accuracy: 0.6863 - loss: 0.9890 - val_accuracy: 0.6250 - val_loss: 1.0074\n",
            "Epoch 33/100\n",
            "\u001b[1m17/17\u001b[0m \u001b[32m━━━━━━━━━━━━━━━━━━━━\u001b[0m\u001b[37m\u001b[0m \u001b[1m3s\u001b[0m 92ms/step - accuracy: 0.6974 - loss: 0.9648 - val_accuracy: 0.6417 - val_loss: 0.9782\n",
            "Epoch 34/100\n",
            "\u001b[1m17/17\u001b[0m \u001b[32m━━━━━━━━━━━━━━━━━━━━\u001b[0m\u001b[37m\u001b[0m \u001b[1m2s\u001b[0m 101ms/step - accuracy: 0.7092 - loss: 0.9394 - val_accuracy: 0.6500 - val_loss: 0.9534\n",
            "Epoch 35/100\n",
            "\u001b[1m17/17\u001b[0m \u001b[32m━━━━━━━━━━━━━━━━━━━━\u001b[0m\u001b[37m\u001b[0m \u001b[1m3s\u001b[0m 152ms/step - accuracy: 0.7202 - loss: 0.9168 - val_accuracy: 0.6667 - val_loss: 0.9286\n",
            "Epoch 36/100\n",
            "\u001b[1m17/17\u001b[0m \u001b[32m━━━━━━━━━━━━━━━━━━━━\u001b[0m\u001b[37m\u001b[0m \u001b[1m2s\u001b[0m 92ms/step - accuracy: 0.7339 - loss: 0.8926 - val_accuracy: 0.6667 - val_loss: 0.9054\n",
            "Epoch 37/100\n",
            "\u001b[1m17/17\u001b[0m \u001b[32m━━━━━━━━━━━━━━━━━━━━\u001b[0m\u001b[37m\u001b[0m \u001b[1m2s\u001b[0m 92ms/step - accuracy: 0.7350 - loss: 0.8723 - val_accuracy: 0.6667 - val_loss: 0.8859\n",
            "Epoch 38/100\n",
            "\u001b[1m17/17\u001b[0m \u001b[32m━━━━━━━━━━━━━━━━━━━━\u001b[0m\u001b[37m\u001b[0m \u001b[1m3s\u001b[0m 92ms/step - accuracy: 0.7463 - loss: 0.8530 - val_accuracy: 0.6833 - val_loss: 0.8669\n",
            "Epoch 39/100\n",
            "\u001b[1m17/17\u001b[0m \u001b[32m━━━━━━━━━━━━━━━━━━━━\u001b[0m\u001b[37m\u001b[0m \u001b[1m2s\u001b[0m 93ms/step - accuracy: 0.7497 - loss: 0.8327 - val_accuracy: 0.7083 - val_loss: 0.8487\n",
            "Epoch 40/100\n",
            "\u001b[1m17/17\u001b[0m \u001b[32m━━━━━━━━━━━━━━━━━━━━\u001b[0m\u001b[37m\u001b[0m \u001b[1m3s\u001b[0m 93ms/step - accuracy: 0.7529 - loss: 0.8153 - val_accuracy: 0.7000 - val_loss: 0.8319\n",
            "Epoch 41/100\n",
            "\u001b[1m17/17\u001b[0m \u001b[32m━━━━━━━━━━━━━━━━━━━━\u001b[0m\u001b[37m\u001b[0m \u001b[1m3s\u001b[0m 121ms/step - accuracy: 0.7566 - loss: 0.7987 - val_accuracy: 0.7083 - val_loss: 0.8156\n",
            "Epoch 42/100\n",
            "\u001b[1m17/17\u001b[0m \u001b[32m━━━━━━━━━━━━━━━━━━━━\u001b[0m\u001b[37m\u001b[0m \u001b[1m2s\u001b[0m 92ms/step - accuracy: 0.7635 - loss: 0.7827 - val_accuracy: 0.7000 - val_loss: 0.8000\n",
            "Epoch 43/100\n",
            "\u001b[1m17/17\u001b[0m \u001b[32m━━━━━━━━━━━━━━━━━━━━\u001b[0m\u001b[37m\u001b[0m \u001b[1m3s\u001b[0m 91ms/step - accuracy: 0.7642 - loss: 0.7671 - val_accuracy: 0.7000 - val_loss: 0.7842\n",
            "Epoch 44/100\n",
            "\u001b[1m17/17\u001b[0m \u001b[32m━━━━━━━━━━━━━━━━━━━━\u001b[0m\u001b[37m\u001b[0m \u001b[1m2s\u001b[0m 93ms/step - accuracy: 0.7689 - loss: 0.7524 - val_accuracy: 0.7000 - val_loss: 0.7694\n",
            "Epoch 45/100\n",
            "\u001b[1m17/17\u001b[0m \u001b[32m━━━━━━━━━━━━━━━━━━━━\u001b[0m\u001b[37m\u001b[0m \u001b[1m3s\u001b[0m 92ms/step - accuracy: 0.7698 - loss: 0.7385 - val_accuracy: 0.7083 - val_loss: 0.7562\n",
            "Epoch 46/100\n",
            "\u001b[1m17/17\u001b[0m \u001b[32m━━━━━━━━━━━━━━━━━━━━\u001b[0m\u001b[37m\u001b[0m \u001b[1m2s\u001b[0m 108ms/step - accuracy: 0.7755 - loss: 0.7247 - val_accuracy: 0.7167 - val_loss: 0.7437\n",
            "Epoch 47/100\n",
            "\u001b[1m17/17\u001b[0m \u001b[32m━━━━━━━━━━━━━━━━━━━━\u001b[0m\u001b[37m\u001b[0m \u001b[1m3s\u001b[0m 108ms/step - accuracy: 0.7824 - loss: 0.7125 - val_accuracy: 0.7250 - val_loss: 0.7318\n",
            "Epoch 48/100\n",
            "\u001b[1m17/17\u001b[0m \u001b[32m━━━━━━━━━━━━━━━━━━━━\u001b[0m\u001b[37m\u001b[0m \u001b[1m2s\u001b[0m 91ms/step - accuracy: 0.7856 - loss: 0.7005 - val_accuracy: 0.7333 - val_loss: 0.7207\n",
            "Epoch 49/100\n",
            "\u001b[1m17/17\u001b[0m \u001b[32m━━━━━━━━━━━━━━━━━━━━\u001b[0m\u001b[37m\u001b[0m \u001b[1m2s\u001b[0m 93ms/step - accuracy: 0.7861 - loss: 0.6889 - val_accuracy: 0.7417 - val_loss: 0.7097\n",
            "Epoch 50/100\n",
            "\u001b[1m17/17\u001b[0m \u001b[32m━━━━━━━━━━━━━━━━━━━━\u001b[0m\u001b[37m\u001b[0m \u001b[1m2s\u001b[0m 91ms/step - accuracy: 0.7844 - loss: 0.6783 - val_accuracy: 0.7500 - val_loss: 0.7001\n",
            "Epoch 51/100\n",
            "\u001b[1m17/17\u001b[0m \u001b[32m━━━━━━━━━━━━━━━━━━━━\u001b[0m\u001b[37m\u001b[0m \u001b[1m3s\u001b[0m 92ms/step - accuracy: 0.7887 - loss: 0.6681 - val_accuracy: 0.7583 - val_loss: 0.6905\n",
            "Epoch 52/100\n",
            "\u001b[1m17/17\u001b[0m \u001b[32m━━━━━━━━━━━━━━━━━━━━\u001b[0m\u001b[37m\u001b[0m \u001b[1m2s\u001b[0m 92ms/step - accuracy: 0.7928 - loss: 0.6583 - val_accuracy: 0.7583 - val_loss: 0.6807\n",
            "Epoch 53/100\n",
            "\u001b[1m17/17\u001b[0m \u001b[32m━━━━━━━━━━━━━━━━━━━━\u001b[0m\u001b[37m\u001b[0m \u001b[1m3s\u001b[0m 154ms/step - accuracy: 0.7921 - loss: 0.6486 - val_accuracy: 0.7667 - val_loss: 0.6719\n",
            "Epoch 54/100\n",
            "\u001b[1m17/17\u001b[0m \u001b[32m━━━━━━━━━━━━━━━━━━━━\u001b[0m\u001b[37m\u001b[0m \u001b[1m2s\u001b[0m 97ms/step - accuracy: 0.8030 - loss: 0.6392 - val_accuracy: 0.7667 - val_loss: 0.6634\n",
            "Epoch 55/100\n",
            "\u001b[1m17/17\u001b[0m \u001b[32m━━━━━━━━━━━━━━━━━━━━\u001b[0m\u001b[37m\u001b[0m \u001b[1m2s\u001b[0m 93ms/step - accuracy: 0.8037 - loss: 0.6297 - val_accuracy: 0.7667 - val_loss: 0.6550\n",
            "Epoch 56/100\n",
            "\u001b[1m17/17\u001b[0m \u001b[32m━━━━━━━━━━━━━━━━━━━━\u001b[0m\u001b[37m\u001b[0m \u001b[1m2s\u001b[0m 112ms/step - accuracy: 0.8085 - loss: 0.6210 - val_accuracy: 0.7667 - val_loss: 0.6471\n",
            "Epoch 57/100\n",
            "\u001b[1m17/17\u001b[0m \u001b[32m━━━━━━━━━━━━━━━━━━━━\u001b[0m\u001b[37m\u001b[0m \u001b[1m2s\u001b[0m 92ms/step - accuracy: 0.8110 - loss: 0.6122 - val_accuracy: 0.7750 - val_loss: 0.6395\n",
            "Epoch 58/100\n",
            "\u001b[1m17/17\u001b[0m \u001b[32m━━━━━━━━━━━━━━━━━━━━\u001b[0m\u001b[37m\u001b[0m \u001b[1m3s\u001b[0m 91ms/step - accuracy: 0.8125 - loss: 0.6045 - val_accuracy: 0.7750 - val_loss: 0.6319\n",
            "Epoch 59/100\n",
            "\u001b[1m17/17\u001b[0m \u001b[32m━━━━━━━━━━━━━━━━━━━━\u001b[0m\u001b[37m\u001b[0m \u001b[1m2s\u001b[0m 147ms/step - accuracy: 0.8211 - loss: 0.5966 - val_accuracy: 0.7833 - val_loss: 0.6247\n",
            "Epoch 60/100\n",
            "\u001b[1m17/17\u001b[0m \u001b[32m━━━━━━━━━━━━━━━━━━━━\u001b[0m\u001b[37m\u001b[0m \u001b[1m2s\u001b[0m 99ms/step - accuracy: 0.8215 - loss: 0.5893 - val_accuracy: 0.7833 - val_loss: 0.6183\n",
            "Epoch 61/100\n",
            "\u001b[1m17/17\u001b[0m \u001b[32m━━━━━━━━━━━━━━━━━━━━\u001b[0m\u001b[37m\u001b[0m \u001b[1m2s\u001b[0m 92ms/step - accuracy: 0.8279 - loss: 0.5822 - val_accuracy: 0.7833 - val_loss: 0.6119\n",
            "Epoch 62/100\n",
            "\u001b[1m17/17\u001b[0m \u001b[32m━━━━━━━━━━━━━━━━━━━━\u001b[0m\u001b[37m\u001b[0m \u001b[1m3s\u001b[0m 93ms/step - accuracy: 0.8344 - loss: 0.5752 - val_accuracy: 0.7833 - val_loss: 0.6060\n",
            "Epoch 63/100\n",
            "\u001b[1m17/17\u001b[0m \u001b[32m━━━━━━━━━━━━━━━━━━━━\u001b[0m\u001b[37m\u001b[0m \u001b[1m2s\u001b[0m 91ms/step - accuracy: 0.8382 - loss: 0.5685 - val_accuracy: 0.7833 - val_loss: 0.6001\n",
            "Epoch 64/100\n",
            "\u001b[1m17/17\u001b[0m \u001b[32m━━━━━━━━━━━━━━━━━━━━\u001b[0m\u001b[37m\u001b[0m \u001b[1m3s\u001b[0m 91ms/step - accuracy: 0.8457 - loss: 0.5617 - val_accuracy: 0.7833 - val_loss: 0.5943\n",
            "Epoch 65/100\n",
            "\u001b[1m17/17\u001b[0m \u001b[32m━━━━━━━━━━━━━━━━━━━━\u001b[0m\u001b[37m\u001b[0m \u001b[1m2s\u001b[0m 140ms/step - accuracy: 0.8482 - loss: 0.5551 - val_accuracy: 0.8000 - val_loss: 0.5891\n",
            "Epoch 66/100\n",
            "\u001b[1m17/17\u001b[0m \u001b[32m━━━━━━━━━━━━━━━━━━━━\u001b[0m\u001b[37m\u001b[0m \u001b[1m2s\u001b[0m 105ms/step - accuracy: 0.8490 - loss: 0.5487 - val_accuracy: 0.8000 - val_loss: 0.5841\n",
            "Epoch 67/100\n",
            "\u001b[1m17/17\u001b[0m \u001b[32m━━━━━━━━━━━━━━━━━━━━\u001b[0m\u001b[37m\u001b[0m \u001b[1m2s\u001b[0m 91ms/step - accuracy: 0.8492 - loss: 0.5425 - val_accuracy: 0.8000 - val_loss: 0.5792\n",
            "Epoch 68/100\n",
            "\u001b[1m17/17\u001b[0m \u001b[32m━━━━━━━━━━━━━━━━━━━━\u001b[0m\u001b[37m\u001b[0m \u001b[1m2s\u001b[0m 92ms/step - accuracy: 0.8492 - loss: 0.5365 - val_accuracy: 0.8083 - val_loss: 0.5743\n",
            "Epoch 69/100\n",
            "\u001b[1m17/17\u001b[0m \u001b[32m━━━━━━━━━━━━━━━━━━━━\u001b[0m\u001b[37m\u001b[0m \u001b[1m2s\u001b[0m 91ms/step - accuracy: 0.8521 - loss: 0.5306 - val_accuracy: 0.8000 - val_loss: 0.5694\n",
            "Epoch 70/100\n",
            "\u001b[1m17/17\u001b[0m \u001b[32m━━━━━━━━━━━━━━━━━━━━\u001b[0m\u001b[37m\u001b[0m \u001b[1m2s\u001b[0m 93ms/step - accuracy: 0.8571 - loss: 0.5248 - val_accuracy: 0.8000 - val_loss: 0.5647\n",
            "Epoch 71/100\n",
            "\u001b[1m17/17\u001b[0m \u001b[32m━━━━━━━━━━━━━━━━━━━━\u001b[0m\u001b[37m\u001b[0m \u001b[1m2s\u001b[0m 91ms/step - accuracy: 0.8572 - loss: 0.5193 - val_accuracy: 0.8083 - val_loss: 0.5602\n",
            "Epoch 72/100\n",
            "\u001b[1m17/17\u001b[0m \u001b[32m━━━━━━━━━━━━━━━━━━━━\u001b[0m\u001b[37m\u001b[0m \u001b[1m2s\u001b[0m 118ms/step - accuracy: 0.8603 - loss: 0.5140 - val_accuracy: 0.8083 - val_loss: 0.5559\n",
            "Epoch 73/100\n",
            "\u001b[1m17/17\u001b[0m \u001b[32m━━━━━━━━━━━━━━━━━━━━\u001b[0m\u001b[37m\u001b[0m \u001b[1m2s\u001b[0m 106ms/step - accuracy: 0.8645 - loss: 0.5085 - val_accuracy: 0.8083 - val_loss: 0.5523\n",
            "Epoch 74/100\n",
            "\u001b[1m17/17\u001b[0m \u001b[32m━━━━━━━━━━━━━━━━━━━━\u001b[0m\u001b[37m\u001b[0m \u001b[1m2s\u001b[0m 92ms/step - accuracy: 0.8662 - loss: 0.5035 - val_accuracy: 0.8083 - val_loss: 0.5484\n",
            "Epoch 75/100\n",
            "\u001b[1m17/17\u001b[0m \u001b[32m━━━━━━━━━━━━━━━━━━━━\u001b[0m\u001b[37m\u001b[0m \u001b[1m2s\u001b[0m 92ms/step - accuracy: 0.8657 - loss: 0.4985 - val_accuracy: 0.8083 - val_loss: 0.5449\n",
            "Epoch 76/100\n",
            "\u001b[1m17/17\u001b[0m \u001b[32m━━━━━━━━━━━━━━━━━━━━\u001b[0m\u001b[37m\u001b[0m \u001b[1m3s\u001b[0m 94ms/step - accuracy: 0.8657 - loss: 0.4937 - val_accuracy: 0.8083 - val_loss: 0.5415\n",
            "Epoch 77/100\n",
            "\u001b[1m17/17\u001b[0m \u001b[32m━━━━━━━━━━━━━━━━━━━━\u001b[0m\u001b[37m\u001b[0m \u001b[1m2s\u001b[0m 96ms/step - accuracy: 0.8669 - loss: 0.4889 - val_accuracy: 0.8167 - val_loss: 0.5382\n",
            "Epoch 78/100\n",
            "\u001b[1m17/17\u001b[0m \u001b[32m━━━━━━━━━━━━━━━━━━━━\u001b[0m\u001b[37m\u001b[0m \u001b[1m4s\u001b[0m 158ms/step - accuracy: 0.8681 - loss: 0.4844 - val_accuracy: 0.8167 - val_loss: 0.5347\n",
            "Epoch 79/100\n",
            "\u001b[1m17/17\u001b[0m \u001b[32m━━━━━━━━━━━━━━━━━━━━\u001b[0m\u001b[37m\u001b[0m \u001b[1m4s\u001b[0m 92ms/step - accuracy: 0.8681 - loss: 0.4798 - val_accuracy: 0.8167 - val_loss: 0.5312\n",
            "Epoch 80/100\n",
            "\u001b[1m17/17\u001b[0m \u001b[32m━━━━━━━━━━━━━━━━━━━━\u001b[0m\u001b[37m\u001b[0m \u001b[1m2s\u001b[0m 92ms/step - accuracy: 0.8696 - loss: 0.4754 - val_accuracy: 0.8167 - val_loss: 0.5282\n",
            "Epoch 81/100\n",
            "\u001b[1m17/17\u001b[0m \u001b[32m━━━━━━━━━━━━━━━━━━━━\u001b[0m\u001b[37m\u001b[0m \u001b[1m2s\u001b[0m 91ms/step - accuracy: 0.8706 - loss: 0.4711 - val_accuracy: 0.8167 - val_loss: 0.5250\n",
            "Epoch 82/100\n",
            "\u001b[1m17/17\u001b[0m \u001b[32m━━━━━━━━━━━━━━━━━━━━\u001b[0m\u001b[37m\u001b[0m \u001b[1m2s\u001b[0m 91ms/step - accuracy: 0.8724 - loss: 0.4669 - val_accuracy: 0.8250 - val_loss: 0.5221\n",
            "Epoch 83/100\n",
            "\u001b[1m17/17\u001b[0m \u001b[32m━━━━━━━━━━━━━━━━━━━━\u001b[0m\u001b[37m\u001b[0m \u001b[1m3s\u001b[0m 143ms/step - accuracy: 0.8724 - loss: 0.4627 - val_accuracy: 0.8250 - val_loss: 0.5194\n",
            "Epoch 84/100\n",
            "\u001b[1m17/17\u001b[0m \u001b[32m━━━━━━━━━━━━━━━━━━━━\u001b[0m\u001b[37m\u001b[0m \u001b[1m2s\u001b[0m 107ms/step - accuracy: 0.8728 - loss: 0.4587 - val_accuracy: 0.8250 - val_loss: 0.5166\n",
            "Epoch 85/100\n",
            "\u001b[1m17/17\u001b[0m \u001b[32m━━━━━━━━━━━━━━━━━━━━\u001b[0m\u001b[37m\u001b[0m \u001b[1m2s\u001b[0m 92ms/step - accuracy: 0.8728 - loss: 0.4549 - val_accuracy: 0.8250 - val_loss: 0.5140\n",
            "Epoch 86/100\n",
            "\u001b[1m17/17\u001b[0m \u001b[32m━━━━━━━━━━━━━━━━━━━━\u001b[0m\u001b[37m\u001b[0m \u001b[1m3s\u001b[0m 91ms/step - accuracy: 0.8728 - loss: 0.4510 - val_accuracy: 0.8250 - val_loss: 0.5117\n",
            "Epoch 87/100\n",
            "\u001b[1m17/17\u001b[0m \u001b[32m━━━━━━━━━━━━━━━━━━━━\u001b[0m\u001b[37m\u001b[0m \u001b[1m2s\u001b[0m 92ms/step - accuracy: 0.8732 - loss: 0.4471 - val_accuracy: 0.8250 - val_loss: 0.5091\n",
            "Epoch 88/100\n",
            "\u001b[1m17/17\u001b[0m \u001b[32m━━━━━━━━━━━━━━━━━━━━\u001b[0m\u001b[37m\u001b[0m \u001b[1m2s\u001b[0m 91ms/step - accuracy: 0.8732 - loss: 0.4433 - val_accuracy: 0.8333 - val_loss: 0.5067\n",
            "Epoch 89/100\n",
            "\u001b[1m17/17\u001b[0m \u001b[32m━━━━━━━━━━━━━━━━━━━━\u001b[0m\u001b[37m\u001b[0m \u001b[1m2s\u001b[0m 97ms/step - accuracy: 0.8736 - loss: 0.4396 - val_accuracy: 0.8333 - val_loss: 0.5044\n",
            "Epoch 90/100\n",
            "\u001b[1m17/17\u001b[0m \u001b[32m━━━━━━━━━━━━━━━━━━━━\u001b[0m\u001b[37m\u001b[0m \u001b[1m3s\u001b[0m 114ms/step - accuracy: 0.8736 - loss: 0.4359 - val_accuracy: 0.8333 - val_loss: 0.5024\n",
            "Epoch 91/100\n",
            "\u001b[1m17/17\u001b[0m \u001b[32m━━━━━━━━━━━━━━━━━━━━\u001b[0m\u001b[37m\u001b[0m \u001b[1m2s\u001b[0m 92ms/step - accuracy: 0.8737 - loss: 0.4323 - val_accuracy: 0.8333 - val_loss: 0.5002\n",
            "Epoch 92/100\n",
            "\u001b[1m17/17\u001b[0m \u001b[32m━━━━━━━━━━━━━━━━━━━━\u001b[0m\u001b[37m\u001b[0m \u001b[1m2s\u001b[0m 92ms/step - accuracy: 0.8738 - loss: 0.4289 - val_accuracy: 0.8333 - val_loss: 0.4982\n",
            "Epoch 93/100\n",
            "\u001b[1m17/17\u001b[0m \u001b[32m━━━━━━━━━━━━━━━━━━━━\u001b[0m\u001b[37m\u001b[0m \u001b[1m3s\u001b[0m 94ms/step - accuracy: 0.8768 - loss: 0.4256 - val_accuracy: 0.8333 - val_loss: 0.4961\n",
            "Epoch 94/100\n",
            "\u001b[1m17/17\u001b[0m \u001b[32m━━━━━━━━━━━━━━━━━━━━\u001b[0m\u001b[37m\u001b[0m \u001b[1m2s\u001b[0m 93ms/step - accuracy: 0.8764 - loss: 0.4223 - val_accuracy: 0.8333 - val_loss: 0.4940\n",
            "Epoch 95/100\n",
            "\u001b[1m17/17\u001b[0m \u001b[32m━━━━━━━━━━━━━━━━━━━━\u001b[0m\u001b[37m\u001b[0m \u001b[1m2s\u001b[0m 92ms/step - accuracy: 0.8764 - loss: 0.4190 - val_accuracy: 0.8333 - val_loss: 0.4915\n",
            "Epoch 96/100\n",
            "\u001b[1m17/17\u001b[0m \u001b[32m━━━━━━━━━━━━━━━━━━━━\u001b[0m\u001b[37m\u001b[0m \u001b[1m3s\u001b[0m 123ms/step - accuracy: 0.8785 - loss: 0.4157 - val_accuracy: 0.8333 - val_loss: 0.4891\n",
            "Epoch 97/100\n",
            "\u001b[1m17/17\u001b[0m \u001b[32m━━━━━━━━━━━━━━━━━━━━\u001b[0m\u001b[37m\u001b[0m \u001b[1m2s\u001b[0m 93ms/step - accuracy: 0.8820 - loss: 0.4123 - val_accuracy: 0.8417 - val_loss: 0.4869\n",
            "Epoch 98/100\n",
            "\u001b[1m17/17\u001b[0m \u001b[32m━━━━━━━━━━━━━━━━━━━━\u001b[0m\u001b[37m\u001b[0m \u001b[1m2s\u001b[0m 91ms/step - accuracy: 0.8856 - loss: 0.4090 - val_accuracy: 0.8417 - val_loss: 0.4846\n",
            "Epoch 99/100\n",
            "\u001b[1m17/17\u001b[0m \u001b[32m━━━━━━━━━━━━━━━━━━━━\u001b[0m\u001b[37m\u001b[0m \u001b[1m3s\u001b[0m 93ms/step - accuracy: 0.8870 - loss: 0.4060 - val_accuracy: 0.8417 - val_loss: 0.4831\n",
            "Epoch 100/100\n",
            "\u001b[1m17/17\u001b[0m \u001b[32m━━━━━━━━━━━━━━━━━━━━\u001b[0m\u001b[37m\u001b[0m \u001b[1m3s\u001b[0m 93ms/step - accuracy: 0.8863 - loss: 0.4029 - val_accuracy: 0.8417 - val_loss: 0.4809\n"
          ]
        }
      ],
      "source": [
        "train_dataset = tf.data.Dataset.from_tensor_slices((X_train, Y_train)).batch(64)\n",
        "test_dataset = tf.data.Dataset.from_tensor_slices((X_test, Y_test)).batch(64)\n",
        "history = conv_model.fit(train_dataset, epochs=100, validation_data=test_dataset)"
      ]
    },
    {
      "cell_type": "markdown",
      "metadata": {
        "id": "haISIyUc-2Rh"
      },
      "source": [
        "<a name='5'></a>\n",
        "## 5 - History Object\n",
        "\n",
        "The history object is an output of the `.fit()` operation, and provides a record of all the loss and metric values in memory. It's stored as a dictionary that you can retrieve at `history.history`:"
      ]
    },
    {
      "cell_type": "code",
      "execution_count": null,
      "metadata": {
        "id": "RQMkY_Yu-2Ri",
        "colab": {
          "base_uri": "https://localhost:8080/"
        },
        "outputId": "0ba076fa-5885-49d5-8f0a-ec37896a53d2"
      },
      "outputs": [
        {
          "output_type": "execute_result",
          "data": {
            "text/plain": [
              "{'accuracy': [0.1537037044763565,\n",
              "  0.20277777314186096,\n",
              "  0.17685185372829437,\n",
              "  0.22870370745658875,\n",
              "  0.31388887763023376,\n",
              "  0.32870370149612427,\n",
              "  0.35462963581085205,\n",
              "  0.38148146867752075,\n",
              "  0.39814814925193787,\n",
              "  0.40925925970077515,\n",
              "  0.43518519401550293,\n",
              "  0.4601851999759674,\n",
              "  0.4731481373310089,\n",
              "  0.47685185074806213,\n",
              "  0.5046296119689941,\n",
              "  0.5324074029922485,\n",
              "  0.5416666865348816,\n",
              "  0.5509259104728699,\n",
              "  0.5546296238899231,\n",
              "  0.5722222328186035,\n",
              "  0.5805555582046509,\n",
              "  0.5907407402992249,\n",
              "  0.5990740656852722,\n",
              "  0.605555534362793,\n",
              "  0.6231481432914734,\n",
              "  0.6305555701255798,\n",
              "  0.6361111402511597,\n",
              "  0.645370364189148,\n",
              "  0.6666666865348816,\n",
              "  0.6759259104728699,\n",
              "  0.6898148059844971,\n",
              "  0.6898148059844971,\n",
              "  0.7018518447875977,\n",
              "  0.7129629850387573,\n",
              "  0.7212963104248047,\n",
              "  0.7333333492279053,\n",
              "  0.7361111044883728,\n",
              "  0.7444444298744202,\n",
              "  0.7462962865829468,\n",
              "  0.75,\n",
              "  0.7537037134170532,\n",
              "  0.7629629373550415,\n",
              "  0.7638888955116272,\n",
              "  0.7685185074806213,\n",
              "  0.7731481194496155,\n",
              "  0.7777777910232544,\n",
              "  0.7824074029922485,\n",
              "  0.7861111164093018,\n",
              "  0.7888888716697693,\n",
              "  0.7888888716697693,\n",
              "  0.7925925850868225,\n",
              "  0.7962962985038757,\n",
              "  0.7972221970558167,\n",
              "  0.8037037253379822,\n",
              "  0.8064814805984497,\n",
              "  0.8101851940155029,\n",
              "  0.8111110925674438,\n",
              "  0.8148148059844971,\n",
              "  0.8175926208496094,\n",
              "  0.8185185194015503,\n",
              "  0.8222222328186035,\n",
              "  0.8287037014961243,\n",
              "  0.8314814567565918,\n",
              "  0.8379629850387573,\n",
              "  0.8398148417472839,\n",
              "  0.8416666388511658,\n",
              "  0.8425925970077515,\n",
              "  0.8425925970077515,\n",
              "  0.8444444537162781,\n",
              "  0.8490740656852722,\n",
              "  0.8500000238418579,\n",
              "  0.855555534362793,\n",
              "  0.8564814925193787,\n",
              "  0.8592592477798462,\n",
              "  0.8583333492279053,\n",
              "  0.8583333492279053,\n",
              "  0.8592592477798462,\n",
              "  0.8601852059364319,\n",
              "  0.8601852059364319,\n",
              "  0.8611111044883728,\n",
              "  0.8629629611968994,\n",
              "  0.864814817905426,\n",
              "  0.864814817905426,\n",
              "  0.8657407164573669,\n",
              "  0.8657407164573669,\n",
              "  0.8657407164573669,\n",
              "  0.8666666746139526,\n",
              "  0.8666666746139526,\n",
              "  0.8685185313224792,\n",
              "  0.8685185313224792,\n",
              "  0.8685185313224792,\n",
              "  0.8685185313224792,\n",
              "  0.8694444298744202,\n",
              "  0.8685185313224792,\n",
              "  0.8685185313224792,\n",
              "  0.8694444298744202,\n",
              "  0.8722222447395325,\n",
              "  0.8740741014480591,\n",
              "  0.875,\n",
              "  0.8740741014480591],\n",
              " 'loss': [1.8392002582550049,\n",
              "  1.7878341674804688,\n",
              "  1.7806264162063599,\n",
              "  1.7727446556091309,\n",
              "  1.7629258632659912,\n",
              "  1.754267692565918,\n",
              "  1.7448595762252808,\n",
              "  1.7344350814819336,\n",
              "  1.722474455833435,\n",
              "  1.7085697650909424,\n",
              "  1.6910765171051025,\n",
              "  1.6704084873199463,\n",
              "  1.6472135782241821,\n",
              "  1.6196303367614746,\n",
              "  1.5873980522155762,\n",
              "  1.5522793531417847,\n",
              "  1.5146355628967285,\n",
              "  1.4758195877075195,\n",
              "  1.436280369758606,\n",
              "  1.3960726261138916,\n",
              "  1.3565393686294556,\n",
              "  1.3173612356185913,\n",
              "  1.280326008796692,\n",
              "  1.2439724206924438,\n",
              "  1.208594560623169,\n",
              "  1.1754080057144165,\n",
              "  1.1419817209243774,\n",
              "  1.1097779273986816,\n",
              "  1.0788565874099731,\n",
              "  1.0490591526031494,\n",
              "  1.0191749334335327,\n",
              "  0.9928792119026184,\n",
              "  0.9669103622436523,\n",
              "  0.942370593547821,\n",
              "  0.9184053540229797,\n",
              "  0.8946678638458252,\n",
              "  0.874628484249115,\n",
              "  0.8556070327758789,\n",
              "  0.8354350328445435,\n",
              "  0.8179064989089966,\n",
              "  0.8011523485183716,\n",
              "  0.7852413058280945,\n",
              "  0.7699647545814514,\n",
              "  0.7553468346595764,\n",
              "  0.7412289381027222,\n",
              "  0.727607011795044,\n",
              "  0.7152314782142639,\n",
              "  0.7032074332237244,\n",
              "  0.6913775205612183,\n",
              "  0.6805963516235352,\n",
              "  0.6701161861419678,\n",
              "  0.6601458191871643,\n",
              "  0.6503161191940308,\n",
              "  0.6406532526016235,\n",
              "  0.6312410831451416,\n",
              "  0.6223784685134888,\n",
              "  0.6136603951454163,\n",
              "  0.6057841181755066,\n",
              "  0.5977904796600342,\n",
              "  0.5903650522232056,\n",
              "  0.582980215549469,\n",
              "  0.5761172771453857,\n",
              "  0.5692437291145325,\n",
              "  0.5623850226402283,\n",
              "  0.5558847188949585,\n",
              "  0.5495427250862122,\n",
              "  0.5433496236801147,\n",
              "  0.5374377369880676,\n",
              "  0.5316619277000427,\n",
              "  0.525874674320221,\n",
              "  0.5202076435089111,\n",
              "  0.5148414373397827,\n",
              "  0.5094389915466309,\n",
              "  0.5043724775314331,\n",
              "  0.499338835477829,\n",
              "  0.4945513606071472,\n",
              "  0.48977524042129517,\n",
              "  0.48530691862106323,\n",
              "  0.4807139039039612,\n",
              "  0.4763141870498657,\n",
              "  0.4720028340816498,\n",
              "  0.4677755832672119,\n",
              "  0.4635496437549591,\n",
              "  0.459626168012619,\n",
              "  0.4557799696922302,\n",
              "  0.45190778374671936,\n",
              "  0.4478563666343689,\n",
              "  0.44399991631507874,\n",
              "  0.4402317404747009,\n",
              "  0.4365359842777252,\n",
              "  0.4330016076564789,\n",
              "  0.4295404851436615,\n",
              "  0.42618921399116516,\n",
              "  0.4228023290634155,\n",
              "  0.41958022117614746,\n",
              "  0.41621261835098267,\n",
              "  0.41286519169807434,\n",
              "  0.409682959318161,\n",
              "  0.4064032733440399,\n",
              "  0.4033202826976776],\n",
              " 'val_accuracy': [0.1666666716337204,\n",
              "  0.1666666716337204,\n",
              "  0.1666666716337204,\n",
              "  0.2916666567325592,\n",
              "  0.38333332538604736,\n",
              "  0.34166666865348816,\n",
              "  0.4333333373069763,\n",
              "  0.46666666865348816,\n",
              "  0.4749999940395355,\n",
              "  0.4416666626930237,\n",
              "  0.4333333373069763,\n",
              "  0.4583333432674408,\n",
              "  0.4583333432674408,\n",
              "  0.4749999940395355,\n",
              "  0.5166666507720947,\n",
              "  0.5249999761581421,\n",
              "  0.5249999761581421,\n",
              "  0.550000011920929,\n",
              "  0.5583333373069763,\n",
              "  0.550000011920929,\n",
              "  0.5583333373069763,\n",
              "  0.5416666865348816,\n",
              "  0.5583333373069763,\n",
              "  0.6000000238418579,\n",
              "  0.6000000238418579,\n",
              "  0.6166666746139526,\n",
              "  0.6166666746139526,\n",
              "  0.6083333492279053,\n",
              "  0.6083333492279053,\n",
              "  0.6083333492279053,\n",
              "  0.6166666746139526,\n",
              "  0.625,\n",
              "  0.6416666507720947,\n",
              "  0.6499999761581421,\n",
              "  0.6666666865348816,\n",
              "  0.6666666865348816,\n",
              "  0.6666666865348816,\n",
              "  0.6833333373069763,\n",
              "  0.7083333134651184,\n",
              "  0.699999988079071,\n",
              "  0.7083333134651184,\n",
              "  0.699999988079071,\n",
              "  0.699999988079071,\n",
              "  0.699999988079071,\n",
              "  0.7083333134651184,\n",
              "  0.7166666388511658,\n",
              "  0.7250000238418579,\n",
              "  0.7333333492279053,\n",
              "  0.7416666746139526,\n",
              "  0.75,\n",
              "  0.7583333253860474,\n",
              "  0.7583333253860474,\n",
              "  0.7666666507720947,\n",
              "  0.7666666507720947,\n",
              "  0.7666666507720947,\n",
              "  0.7666666507720947,\n",
              "  0.7749999761581421,\n",
              "  0.7749999761581421,\n",
              "  0.7833333611488342,\n",
              "  0.7833333611488342,\n",
              "  0.7833333611488342,\n",
              "  0.7833333611488342,\n",
              "  0.7833333611488342,\n",
              "  0.7833333611488342,\n",
              "  0.800000011920929,\n",
              "  0.800000011920929,\n",
              "  0.800000011920929,\n",
              "  0.8083333373069763,\n",
              "  0.800000011920929,\n",
              "  0.800000011920929,\n",
              "  0.8083333373069763,\n",
              "  0.8083333373069763,\n",
              "  0.8083333373069763,\n",
              "  0.8083333373069763,\n",
              "  0.8083333373069763,\n",
              "  0.8083333373069763,\n",
              "  0.8166666626930237,\n",
              "  0.8166666626930237,\n",
              "  0.8166666626930237,\n",
              "  0.8166666626930237,\n",
              "  0.8166666626930237,\n",
              "  0.824999988079071,\n",
              "  0.824999988079071,\n",
              "  0.824999988079071,\n",
              "  0.824999988079071,\n",
              "  0.824999988079071,\n",
              "  0.824999988079071,\n",
              "  0.8333333134651184,\n",
              "  0.8333333134651184,\n",
              "  0.8333333134651184,\n",
              "  0.8333333134651184,\n",
              "  0.8333333134651184,\n",
              "  0.8333333134651184,\n",
              "  0.8333333134651184,\n",
              "  0.8333333134651184,\n",
              "  0.8333333134651184,\n",
              "  0.8416666388511658,\n",
              "  0.8416666388511658,\n",
              "  0.8416666388511658,\n",
              "  0.8416666388511658],\n",
              " 'val_loss': [1.7936457395553589,\n",
              "  1.7816287279129028,\n",
              "  1.776448369026184,\n",
              "  1.7694590091705322,\n",
              "  1.7612717151641846,\n",
              "  1.7538045644760132,\n",
              "  1.7448921203613281,\n",
              "  1.7343043088912964,\n",
              "  1.7230557203292847,\n",
              "  1.7085106372833252,\n",
              "  1.6922492980957031,\n",
              "  1.6738311052322388,\n",
              "  1.653535008430481,\n",
              "  1.6284233331680298,\n",
              "  1.596152424812317,\n",
              "  1.560498595237732,\n",
              "  1.5247161388397217,\n",
              "  1.4866307973861694,\n",
              "  1.4483685493469238,\n",
              "  1.4085800647735596,\n",
              "  1.3706963062286377,\n",
              "  1.3320789337158203,\n",
              "  1.296479344367981,\n",
              "  1.2601511478424072,\n",
              "  1.226063847541809,\n",
              "  1.192982792854309,\n",
              "  1.1587480306625366,\n",
              "  1.1264816522598267,\n",
              "  1.0939710140228271,\n",
              "  1.064883828163147,\n",
              "  1.034075379371643,\n",
              "  1.0074149370193481,\n",
              "  0.978164792060852,\n",
              "  0.9533912539482117,\n",
              "  0.9285959601402283,\n",
              "  0.9054223299026489,\n",
              "  0.8859221339225769,\n",
              "  0.8668950200080872,\n",
              "  0.848676323890686,\n",
              "  0.8318689465522766,\n",
              "  0.8156116604804993,\n",
              "  0.7999524474143982,\n",
              "  0.7842404842376709,\n",
              "  0.7693712711334229,\n",
              "  0.756240725517273,\n",
              "  0.7437366247177124,\n",
              "  0.7317934632301331,\n",
              "  0.7206763029098511,\n",
              "  0.7097219824790955,\n",
              "  0.7000598907470703,\n",
              "  0.690490186214447,\n",
              "  0.6806602478027344,\n",
              "  0.6719225645065308,\n",
              "  0.6634034514427185,\n",
              "  0.6549863815307617,\n",
              "  0.647088348865509,\n",
              "  0.6394612789154053,\n",
              "  0.6318895220756531,\n",
              "  0.6247075796127319,\n",
              "  0.6183034181594849,\n",
              "  0.6118757724761963,\n",
              "  0.6060133576393127,\n",
              "  0.6000936031341553,\n",
              "  0.5943037867546082,\n",
              "  0.5891183018684387,\n",
              "  0.5841072201728821,\n",
              "  0.5791966915130615,\n",
              "  0.5743367075920105,\n",
              "  0.5693749189376831,\n",
              "  0.5647239685058594,\n",
              "  0.5602264404296875,\n",
              "  0.5558550357818604,\n",
              "  0.5523137450218201,\n",
              "  0.5484441518783569,\n",
              "  0.5449157953262329,\n",
              "  0.5414597988128662,\n",
              "  0.5381543636322021,\n",
              "  0.5347423553466797,\n",
              "  0.5311911702156067,\n",
              "  0.5281686782836914,\n",
              "  0.5249873995780945,\n",
              "  0.5220634341239929,\n",
              "  0.5194090008735657,\n",
              "  0.5166392922401428,\n",
              "  0.514007031917572,\n",
              "  0.5117227435112,\n",
              "  0.509086549282074,\n",
              "  0.5067002773284912,\n",
              "  0.5044217109680176,\n",
              "  0.5023902058601379,\n",
              "  0.5001989006996155,\n",
              "  0.4982224702835083,\n",
              "  0.4960997700691223,\n",
              "  0.4940040707588196,\n",
              "  0.4915263056755066,\n",
              "  0.48914915323257446,\n",
              "  0.48688456416130066,\n",
              "  0.48460039496421814,\n",
              "  0.4831123352050781,\n",
              "  0.4809191823005676]}"
            ]
          },
          "metadata": {},
          "execution_count": 22
        }
      ],
      "source": [
        "history.history"
      ]
    },
    {
      "cell_type": "markdown",
      "metadata": {
        "id": "9Hb_ZdBZ-2Ri"
      },
      "source": [
        "Now visualize the loss over time using `history.history`:"
      ]
    },
    {
      "cell_type": "code",
      "execution_count": null,
      "metadata": {
        "id": "ZVW4cVMR-2Ri",
        "colab": {
          "base_uri": "https://localhost:8080/",
          "height": 1000
        },
        "outputId": "b2af0d5e-1bb4-498a-f11a-0411f3903788"
      },
      "outputs": [
        {
          "output_type": "execute_result",
          "data": {
            "text/plain": [
              "[Text(0.5, 0, 'Epoch'), Text(0, 0.5, 'Accuracy')]"
            ]
          },
          "metadata": {},
          "execution_count": 23
        },
        {
          "output_type": "display_data",
          "data": {
            "text/plain": [
              "<Figure size 800x600 with 1 Axes>"
            ],
            "image/png": "[encoded data removed]"
          },
          "metadata": {}
        },
        {
          "output_type": "display_data",
          "data": {
            "text/plain": [
              "<Figure size 800x600 with 1 Axes>"
            ],
            "image/png": "[encoded data removed]"
          },
          "metadata": {}
        }
      ],
      "source": [
        "# The history.history[\"loss\"] entry is a dictionary with as many values as epochs that the\n",
        "# model was trained on.\n",
        "df_loss_acc = pd.DataFrame(history.history)\n",
        "df_loss= df_loss_acc[['loss','val_loss']]\n",
        "df_loss = df_loss.copy()\n",
        "df_loss.rename(columns={'loss':'train','val_loss':'validation'},inplace=True)\n",
        "df_acc= df_loss_acc[['accuracy','val_accuracy']]\n",
        "df_acc = df_acc.copy()\n",
        "df_acc.rename(columns={'accuracy':'train','val_accuracy':'validation'},inplace=True)\n",
        "df_loss.plot(title='Model loss',figsize=(8,6)).set(xlabel='Epoch',ylabel='Loss')\n",
        "df_acc.plot(title='Model Accuracy',figsize=(8,6)).set(xlabel='Epoch',ylabel='Accuracy')"
      ]
    },
    {
      "cell_type": "markdown",
      "source": [
        "<a name='6'></a>\n",
        "## 6 - Confusion Matrix and the Classification Report for the trained CNN Model"
      ],
      "metadata": {
        "id": "EW484fKjVxHL"
      }
    },
    {
      "cell_type": "code",
      "source": [
        "import numpy as np\n",
        "from sklearn.metrics import confusion_matrix, classification_report\n",
        "\n",
        "# Step 1: Make predictions on test set\n",
        "y_probs = model.predict(X_test)  # Probabilities between 0 and 1\n",
        "\n",
        "# Step 2: Convert probabilities to binary predictions (0 or 1)\n",
        "y_preds = (y_probs > 0.5).astype(int)\n",
        "\n",
        "# Step 3: Flatten the true and predicted labels\n",
        "y_true = Y_test.reshape(-1)\n",
        "y_pred = y_preds.reshape(-1)\n",
        "\n",
        "# Step 4: Print Confusion Matrix and Classification Report\n",
        "print(\"Confusion Matrix:\")\n",
        "print(confusion_matrix(y_true, y_pred))\n",
        "\n",
        "print(\"\\nClassification Report:\")\n",
        "print(classification_report(y_true, y_pred, target_names=['Not Happy', 'Happy']))\n"
      ],
      "metadata": {
        "colab": {
          "base_uri": "https://localhost:8080/",
          "height": 411
        },
        "id": "hP7n_LH2F9wa",
        "outputId": "5f164980-9116-4bec-b759-43c8b5ab24e4"
      },
      "execution_count": null,
      "outputs": [
        {
          "output_type": "stream",
          "name": "stderr",
          "text": [
            "/usr/local/lib/python3.11/dist-packages/keras/src/layers/reshaping/zero_padding2d.py:72: UserWarning: Do not pass an `input_shape`/`input_dim` argument to a layer. When using Sequential models, prefer using an `Input(shape)` object as the first layer in the model instead.\n",
            "  super().__init__(**kwargs)\n"
          ]
        },
        {
          "output_type": "error",
          "ename": "ValueError",
          "evalue": "Data cardinality is ambiguous. Make sure all arrays contain the same number of samples.'x' sizes: 1080\n'y' sizes: 6\n",
          "traceback": [
            "\u001b[0;31m---------------------------------------------------------------------------\u001b[0m",
            "\u001b[0;31mValueError\u001b[0m                                Traceback (most recent call last)",
            "\u001b[0;32m<ipython-input-27-2ffaa69687b2>\u001b[0m in \u001b[0;36m<cell line: 0>\u001b[0;34m()\u001b[0m\n\u001b[1;32m     22\u001b[0m \u001b[0;34m\u001b[0m\u001b[0m\n\u001b[1;32m     23\u001b[0m \u001b[0;31m# Train the model\u001b[0m\u001b[0;34m\u001b[0m\u001b[0;34m\u001b[0m\u001b[0m\n\u001b[0;32m---> 24\u001b[0;31m \u001b[0mmodel\u001b[0m\u001b[0;34m.\u001b[0m\u001b[0mfit\u001b[0m\u001b[0;34m(\u001b[0m\u001b[0mX_train\u001b[0m\u001b[0;34m,\u001b[0m \u001b[0mY_train\u001b[0m\u001b[0;34m.\u001b[0m\u001b[0mT\u001b[0m\u001b[0;34m,\u001b[0m \u001b[0mepochs\u001b[0m\u001b[0;34m=\u001b[0m\u001b[0;36m10\u001b[0m\u001b[0;34m,\u001b[0m \u001b[0mbatch_size\u001b[0m\u001b[0;34m=\u001b[0m\u001b[0;36m16\u001b[0m\u001b[0;34m)\u001b[0m\u001b[0;34m\u001b[0m\u001b[0;34m\u001b[0m\u001b[0m\n\u001b[0m",
            "\u001b[0;32m/usr/local/lib/python3.11/dist-packages/keras/src/utils/traceback_utils.py\u001b[0m in \u001b[0;36merror_handler\u001b[0;34m(*args, **kwargs)\u001b[0m\n\u001b[1;32m    120\u001b[0m             \u001b[0;31m# To get the full stack trace, call:\u001b[0m\u001b[0;34m\u001b[0m\u001b[0;34m\u001b[0m\u001b[0m\n\u001b[1;32m    121\u001b[0m             \u001b[0;31m# `keras.config.disable_traceback_filtering()`\u001b[0m\u001b[0;34m\u001b[0m\u001b[0;34m\u001b[0m\u001b[0m\n\u001b[0;32m--> 122\u001b[0;31m             \u001b[0;32mraise\u001b[0m \u001b[0me\u001b[0m\u001b[0;34m.\u001b[0m\u001b[0mwith_traceback\u001b[0m\u001b[0;34m(\u001b[0m\u001b[0mfiltered_tb\u001b[0m\u001b[0;34m)\u001b[0m \u001b[0;32mfrom\u001b[0m \u001b[0;32mNone\u001b[0m\u001b[0;34m\u001b[0m\u001b[0;34m\u001b[0m\u001b[0m\n\u001b[0m\u001b[1;32m    123\u001b[0m         \u001b[0;32mfinally\u001b[0m\u001b[0;34m:\u001b[0m\u001b[0;34m\u001b[0m\u001b[0;34m\u001b[0m\u001b[0m\n\u001b[1;32m    124\u001b[0m             \u001b[0;32mdel\u001b[0m \u001b[0mfiltered_tb\u001b[0m\u001b[0;34m\u001b[0m\u001b[0;34m\u001b[0m\u001b[0m\n",
            "\u001b[0;32m/usr/local/lib/python3.11/dist-packages/keras/src/trainers/data_adapters/data_adapter_utils.py\u001b[0m in \u001b[0;36mcheck_data_cardinality\u001b[0;34m(data)\u001b[0m\n\u001b[1;32m    113\u001b[0m             )\n\u001b[1;32m    114\u001b[0m             \u001b[0mmsg\u001b[0m \u001b[0;34m+=\u001b[0m \u001b[0;34mf\"'{label}' sizes: {sizes}\\n\"\u001b[0m\u001b[0;34m\u001b[0m\u001b[0;34m\u001b[0m\u001b[0m\n\u001b[0;32m--> 115\u001b[0;31m         \u001b[0;32mraise\u001b[0m \u001b[0mValueError\u001b[0m\u001b[0;34m(\u001b[0m\u001b[0mmsg\u001b[0m\u001b[0;34m)\u001b[0m\u001b[0;34m\u001b[0m\u001b[0;34m\u001b[0m\u001b[0m\n\u001b[0m\u001b[1;32m    116\u001b[0m \u001b[0;34m\u001b[0m\u001b[0m\n\u001b[1;32m    117\u001b[0m \u001b[0;34m\u001b[0m\u001b[0m\n",
            "\u001b[0;31mValueError\u001b[0m: Data cardinality is ambiguous. Make sure all arrays contain the same number of samples.'x' sizes: 1080\n'y' sizes: 6\n"
          ]
        }
      ]
    },
    {
      "cell_type": "markdown",
      "metadata": {
        "id": "rwE5PYFC-2Ri"
      },
      "source": [
        "**Congratulations**!\n",
        "\n",
        "<p align=\"left\">\n",
        "<img src=\"https://drive.google.com/uc?export=view&id=1F7vHFOdoIKREbJ5hbTHk_N7ZH0civECu\" alt=\"Neural Network with one hidden layer\" width=\"100\" height=\"100\">\n",
        "</p>\n",
        "\n",
        "You've finished the assignment and built two models: One that recognizes  smiles, and another that recognizes SIGN language with almost 80% accuracy on the test set. In addition to that, you now also understand the applications of two Keras APIs: Sequential and Functional. Nicely done!\n",
        "\n",
        "By now, you know a bit about how the Functional API works and may have glimpsed the possibilities. In your lab assignment, you'll really get a feel for its power when you get the opportunity to build a very deep ConvNet, using ResNets!"
      ]
    },
    {
      "cell_type": "markdown",
      "metadata": {
        "id": "95VbeA0U-2Rj"
      },
      "source": [
        "<a name='7'></a>\n",
        "## 7 - Bibliography\n",
        "\n",
        "You're always encouraged to read the official documentation. To that end, you can find the docs for the Sequential and Functional APIs here:\n",
        "\n",
        "https://www.tensorflow.org/guide/keras/sequential_model\n",
        "\n",
        "https://www.tensorflow.org/guide/keras/functional"
      ]
    }
  ],
  "metadata": {
    "coursera": {
      "course_slug": "convolutional-neural-networks",
      "graded_item_id": "bwbJV",
      "launcher_item_id": "0TkXB"
    },
    "kernelspec": {
      "display_name": "Python 3",
      "language": "python",
      "name": "python3"
    },
    "language_info": {
      "codemirror_mode": {
        "name": "ipython",
        "version": 3
      },
      "file_extension": ".py",
      "mimetype": "text/x-python",
      "name": "python",
      "nbconvert_exporter": "python",
      "pygments_lexer": "ipython3",
      "version": "3.7.6"
    },
    "colab": {
      "provenance": [],
      "include_colab_link": true
    }
  },
  "nbformat": 4,
  "nbformat_minor": 0
}